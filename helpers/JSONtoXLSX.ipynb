{
 "cells": [
  {
   "cell_type": "markdown",
   "id": "3ae0aa08",
   "metadata": {},
   "source": [
    "# Setup"
   ]
  },
  {
   "cell_type": "code",
   "execution_count": 37,
   "id": "9fb78004",
   "metadata": {},
   "outputs": [],
   "source": [
    "num = '106'\n",
    "windows = False"
   ]
  },
  {
   "cell_type": "code",
   "execution_count": 38,
   "id": "6cfacb6d",
   "metadata": {},
   "outputs": [],
   "source": [
    "import pandas as pd\n",
    "import json\n",
    "import os"
   ]
  },
  {
   "cell_type": "markdown",
   "id": "2f85c57b",
   "metadata": {},
   "source": [
    "# Defining Columns of Interest"
   ]
  },
  {
   "cell_type": "code",
   "execution_count": 39,
   "id": "d62cf3fb",
   "metadata": {},
   "outputs": [],
   "source": [
    "BASIC_COLUMNS = {'bill_id', 'bill_type',  'congress', 'introduced_at', 'number', 'status', 'status_at', 'subjects_top_term', 'updated_at'}\n",
    "\n",
    "LIST_COLUMNS  = {'committees', 'subjects'}\n",
    "\n",
    "DICT_COLUMNS  = {'sponsor' : ['thomas_id', 'bioguide_id'], \n",
    "                 'history' : ['awaiting_signature', 'enacted', 'vetoed', 'active', 'house_passage_result', 'senate_passage_result']}\n",
    "\n",
    "IGNORE = {'actions', 'amendments', 'cosponsors', 'enacted_as', 'official_title', 'popular_title', 'related_bills', 'short_title', 'summary', 'titles', 'updated_at'}\n",
    "\n",
    "df_cols = list(BASIC_COLUMNS) + sum(DICT_COLUMNS.values(), []) + list(LIST_COLUMNS)\n",
    "\n",
    "def createRow(json_dict):\n",
    "    row_dict = {}\n",
    "    for c in BASIC_COLUMNS:\n",
    "        if c in json_dict: row_dict[c] = json_dict[c]\n",
    "    for l in LIST_COLUMNS:\n",
    "        if l == 'committees': # SPECIAL CASE\n",
    "            comms = []\n",
    "            for cs in json_dict[l]: comms.append(cs['committee'])\n",
    "            row_dict[l] = comms.__repr__()\n",
    "        elif l in json_dict: row_dict[l] = json_dict[l].__repr__()\n",
    "    for di,fields in DICT_COLUMNS.items():\n",
    "        if di in json_dict:\n",
    "            for field in fields:\n",
    "                if json_dict[di] == None: continue\n",
    "                if field in json_dict[di]:\n",
    "                    row_dict[field] = json_dict[di][field]\n",
    "    return row_dict"
   ]
  },
  {
   "cell_type": "code",
   "execution_count": 40,
   "id": "9e5e1215",
   "metadata": {},
   "outputs": [],
   "source": [
    "BASIC_COLUMNS1 = {'bill_id', 'bill_type',  'congress', 'introduced_at', 'number', 'status', 'status_at', 'subjects_top_term'}\n",
    "\n",
    "LIST_COLUMNS1  = {'committees', 'subjects'}\n",
    "\n",
    "DICT_COLUMNS1  = {'sponsor' : ['thomas_id', 'bioguide_id'], \n",
    "                 'history' : ['awaiting_signature', 'enacted', 'vetoed', 'active', 'house_passage_result', 'senate_passage_result']}\n",
    "\n",
    "IGNORE1 = {'actions', 'amendments', 'cosponsors', 'enacted_as', 'official_title', 'popular_title', 'related_bills', 'short_title', 'summary', 'titles', 'updated_at'}\n",
    "\n",
    "df_cols1 = list(BASIC_COLUMNS1) + sum(DICT_COLUMNS1.values(), []) + list(LIST_COLUMNS1)\n",
    "\n",
    "def createRow1(json_dict):\n",
    "    row_dict = {}\n",
    "    for c in BASIC_COLUMNS1:\n",
    "        if c in json_dict: row_dict[c] = json_dict[c]\n",
    "    for l in LIST_COLUMNS1:\n",
    "        if l == 'committees': # SPECIAL CASE\n",
    "            comms = []\n",
    "            for cs in json_dict[l]: comms.append(cs['committee'])\n",
    "            row_dict[l] = comms.__repr__()\n",
    "        elif l in json_dict: row_dict[l] = json_dict[l].__repr__()\n",
    "    for di,fields in DICT_COLUMNS1.items():\n",
    "        if di in json_dict:\n",
    "            if json_dict[di] == None: continue\n",
    "            for field in fields:\n",
    "                if field in json_dict[di]:\n",
    "                    row_dict[field] = json_dict[di][field]\n",
    "    return row_dict"
   ]
  },
  {
   "cell_type": "code",
   "execution_count": 41,
   "id": "3149b1a8",
   "metadata": {},
   "outputs": [],
   "source": [
    "IGNORE1 = {'actions', 'amendments', 'cosponsors', 'enacted_as', 'official_title', 'popular_title', 'related_bills', 'short_title', 'summary', 'titles', 'updated_at'}\n",
    "\n",
    "df_cols2 = {'bill_id', 'introduced_at', 'congress', 'thomas_id', 'bioguide_id', 'primary_sponsor',  'name', 'state'}\n",
    "solo_cols = {'thomas_id', 'bioguide_id', 'name', 'state'}\n",
    "df_cols2l = ['bill_id', 'introduced_at', 'congress', 'thomas_id', 'bioguide_id', 'primary_sponsor',  'name', 'state']\n",
    "\n",
    "\n",
    "def createSponsorDF(json_dict):\n",
    "    df = pd.DataFrame(columns=df_cols2l,index=['bill_id'])\n",
    "    \n",
    "    # sponsor\n",
    "    row_dict = {'bill_type':json_dict['bill_type'], 'bill_id':json_dict['bill_id'], 'introduced_at':json_dict['introduced_at'], 'congress':json_dict['congress'], 'primary_sponsor':True}\n",
    "    for c in solo_cols:\n",
    "        if json_dict['sponsor'] == None: continue\n",
    "        if c in json_dict['sponsor']:\n",
    "                row_dict[c] = json_dict['sponsor'][c]\n",
    "    rdf = pd.DataFrame(row_dict,index=[1])\n",
    "    df = pd.concat([df, rdf],ignore_index=True)\n",
    "    \n",
    "    \n",
    "    for csp in json_dict['cosponsors']:\n",
    "        row_dict = {'bill_type':json_dict['bill_type'], 'bill_id':json_dict['bill_id'], 'introduced_at':json_dict['introduced_at'], 'congress':json_dict['congress'], 'primary_sponsor':False}\n",
    "        for c in solo_cols:\n",
    "             if c in csp:\n",
    "                    row_dict[c] = csp[c]\n",
    "        rdf = pd.DataFrame(row_dict,index=[1])\n",
    "        df = pd.concat([df, rdf],ignore_index=True)\n",
    "    \n",
    "        \n",
    "    return df.tail(-1)"
   ]
  },
  {
   "cell_type": "code",
   "execution_count": 42,
   "id": "1547d826",
   "metadata": {},
   "outputs": [
    {
     "name": "stdout",
     "output_type": "stream",
     "text": [
      "10840\n"
     ]
    }
   ],
   "source": [
    "count = 0\n",
    "if windows: rootdir = '.\\\\'+num+'\\\\bills\\\\'\n",
    "else: rootdir = './bills/'\n",
    "df1 = pd.DataFrame(columns=df_cols1,index=['bill_id'])\n",
    "df2 = pd.DataFrame(columns=df_cols2l,index=['bill_id'])\n",
    "\n",
    "i = 1\n",
    "for subdir, dirs, files in os.walk(rootdir):\n",
    "    for file in files:\n",
    "        if file[-5:] != '.json': continue  \n",
    "        count += 1\n",
    "print(count)"
   ]
  },
  {
   "cell_type": "code",
   "execution_count": 43,
   "id": "139222d8",
   "metadata": {},
   "outputs": [
    {
     "name": "stdout",
     "output_type": "stream",
     "text": [
      "1000\n",
      "2000\n",
      "3000\n",
      "4000\n",
      "5000\n",
      "6000\n",
      "7000\n",
      "8000\n",
      "9000\n",
      "10000\n"
     ]
    }
   ],
   "source": [
    "if windows: rootdir = '.\\\\'+num+'\\\\bills\\\\'\n",
    "else: rootdir = './bills/'\n",
    "df1 = pd.DataFrame(columns=df_cols1,index=['bill_id'])\n",
    "df2 = pd.DataFrame(columns=df_cols2l,index=['bill_id'])\n",
    "\n",
    "i = 1\n",
    "for subdir, dirs, files in os.walk(rootdir):\n",
    "    for file in files:\n",
    "        if file[-5:] != '.json': continue              \n",
    "        f = open(os.path.join(subdir, file))\n",
    "        d = json.load(f)\n",
    "        f.close()\n",
    "        \n",
    "        tdf1 =  pd.DataFrame(createRow1(d),index=[i])\n",
    "        df1 = pd.concat([df1, tdf1],ignore_index=True)\n",
    "        \n",
    "        df2 = pd.concat([df2, createSponsorDF(d)],ignore_index=True)\n",
    "        \n",
    "        i += 1 \n",
    "        if i%1000 == 0: print(i)\n",
    "\n",
    "df1 = df1.set_index('bill_id').tail(-1)\n",
    "df2 = df2.set_index('bill_id').tail(-1)"
   ]
  },
  {
   "cell_type": "code",
   "execution_count": 44,
   "id": "a8c65bdb",
   "metadata": {},
   "outputs": [],
   "source": [
    "df1.to_excel(num+\"-Bills.xlsx\")  \n",
    "df2.to_excel(num+'-Sponsors.xlsx')"
   ]
  },
  {
   "cell_type": "code",
   "execution_count": null,
   "id": "371db502",
   "metadata": {},
   "outputs": [],
   "source": []
  }
 ],
 "metadata": {
  "kernelspec": {
   "display_name": "Python 3 (ipykernel)",
   "language": "python",
   "name": "python3"
  },
  "language_info": {
   "codemirror_mode": {
    "name": "ipython",
    "version": 3
   },
   "file_extension": ".py",
   "mimetype": "text/x-python",
   "name": "python",
   "nbconvert_exporter": "python",
   "pygments_lexer": "ipython3",
   "version": "3.9.7"
  }
 },
 "nbformat": 4,
 "nbformat_minor": 5
}
