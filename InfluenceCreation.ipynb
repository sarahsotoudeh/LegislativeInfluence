{
 "cells": [
  {
   "cell_type": "code",
   "execution_count": 1,
   "metadata": {
    "colab": {
     "base_uri": "https://localhost:8080/"
    },
    "executionInfo": {
     "elapsed": 1906,
     "status": "ok",
     "timestamp": 1708978616737,
     "user": {
      "displayName": "Sarah Sotoudeh",
      "userId": "08742705193599823123"
     },
     "user_tz": 480
    },
    "id": "xMRC6ctU4_gK",
    "outputId": "65b31c3f-34aa-4b08-bde6-094b9268efbc"
   },
   "outputs": [],
   "source": [
    "from collections import Counter\n",
    "import pandas as pd\n",
    "import seaborn as sns\n",
    "import matplotlib.pyplot as plt\n",
    "from matplotlib.ticker import FixedLocator\n",
    "from matplotlib.ticker import FuncFormatter\n",
    "import numpy as np\n",
    "import pickle\n",
    "import math\n",
    "import networkx as nx\n",
    "import warnings\n",
    "from pathlib import Path\n",
    "import xlrd\n",
    "plt.rcParams['font.family'] = 'Helvetica'\n",
    "plt.rcParams['font.sans-serif'] = ['Helvetica']"
   ]
  },
  {
   "cell_type": "markdown",
   "metadata": {
    "id": "U8kgh7qZ32_n"
   },
   "source": [
    "### Reading in data & joining"
   ]
  },
  {
   "cell_type": "code",
   "execution_count": 2,
   "metadata": {
    "executionInfo": {
     "elapsed": 179399,
     "status": "ok",
     "timestamp": 1708978803816,
     "user": {
      "displayName": "Sarah Sotoudeh",
      "userId": "08742705193599823123"
     },
     "user_tz": 480
    },
    "id": "iCBolPIG-c_V"
   },
   "outputs": [],
   "source": [
    "sponsors115= pd.read_excel(\"./data/115-Sponsors.xlsx\")\n",
    "bills115= pd.read_excel(\"./data/115-Bills.xlsx\")\n",
    "\n",
    "sponsors114= pd.read_excel(\"./data/114-Sponsors.xlsx\")\n",
    "bills114= pd.read_excel(\"./data/114-Bills.xlsx\")\n",
    "\n",
    "sponsors113= pd.read_excel(\"./data/113-Sponsors.xlsx\")\n",
    "bills113= pd.read_excel(\"./data/113-Bills.xlsx\")\n",
    "\n",
    "sponsors112= pd.read_excel(\"./data/112-Sponsors.xlsx\")\n",
    "bills112= pd.read_excel(\"./data/112-Bills.xlsx\")\n",
    "\n",
    "sponsors111= pd.read_excel(\"./data/111-Sponsors.xlsx\")\n",
    "bills111= pd.read_excel(\"./data/111-Bills.xlsx\")\n",
    "\n",
    "icspr = pd.read_csv(\"./data/bioguide_icpsr_crosswalk.csv\")"
   ]
  },
  {
   "cell_type": "code",
   "execution_count": 3,
   "metadata": {
    "executionInfo": {
     "elapsed": 1854,
     "status": "ok",
     "timestamp": 1708978805666,
     "user": {
      "displayName": "Sarah Sotoudeh",
      "userId": "08742705193599823123"
     },
     "user_tz": 480
    },
    "id": "MM3w2OacExHr"
   },
   "outputs": [],
   "source": [
    "house_committee = pd.read_excel(\"./data/house_assignments_103-115-3.xls\")\n",
    "senate_committee = pd.read_excel(\"./data/senate_assignments_103-115-3.xls\")"
   ]
  },
  {
   "cell_type": "markdown",
   "metadata": {
    "id": "gpyWY3512Q_5"
   },
   "source": [
    " **Add bioguide id to Congresses before 113**"
   ]
  },
  {
   "cell_type": "code",
   "execution_count": 4,
   "metadata": {
    "executionInfo": {
     "elapsed": 794,
     "status": "ok",
     "timestamp": 1708978806457,
     "user": {
      "displayName": "Sarah Sotoudeh",
      "userId": "08742705193599823123"
     },
     "user_tz": 480
    },
    "id": "iC1NpJXP-Ual"
   },
   "outputs": [],
   "source": [
    "# bioguide ids for old members\n",
    "old = pd.read_csv(\"./data/legislators-historical.csv\")\n",
    "current = pd.read_csv(\"./data/legislators-current.csv\")"
   ]
  },
  {
   "cell_type": "code",
   "execution_count": 5,
   "metadata": {
    "executionInfo": {
     "elapsed": 3,
     "status": "ok",
     "timestamp": 1708978806458,
     "user": {
      "displayName": "Sarah Sotoudeh",
      "userId": "08742705193599823123"
     },
     "user_tz": 480
    },
    "id": "6xvK3t10DuBj"
   },
   "outputs": [],
   "source": [
    "congress_members = pd.concat([old, current])\n",
    "congress_members_short = congress_members[[\"thomas_id\", \"bioguide_id\"]]"
   ]
  },
  {
   "cell_type": "code",
   "execution_count": 6,
   "metadata": {
    "executionInfo": {
     "elapsed": 3,
     "status": "ok",
     "timestamp": 1708978806458,
     "user": {
      "displayName": "Sarah Sotoudeh",
      "userId": "08742705193599823123"
     },
     "user_tz": 480
    },
    "id": "HtF-_0s4EAXZ"
   },
   "outputs": [],
   "source": [
    "thomas_id_only = pd.concat([sponsors111, sponsors112])"
   ]
  },
  {
   "cell_type": "code",
   "execution_count": 7,
   "metadata": {
    "executionInfo": {
     "elapsed": 173,
     "status": "ok",
     "timestamp": 1708978806629,
     "user": {
      "displayName": "Sarah Sotoudeh",
      "userId": "08742705193599823123"
     },
     "user_tz": 480
    },
    "id": "Aq9a3vIVznSR"
   },
   "outputs": [],
   "source": [
    "sponsors_old_bio=thomas_id_only.merge(congress_members_short, left_on=\"thomas_id\", right_on=\"thomas_id\",how=\"left\")"
   ]
  },
  {
   "cell_type": "code",
   "execution_count": 8,
   "metadata": {
    "executionInfo": {
     "elapsed": 141,
     "status": "ok",
     "timestamp": 1708978806769,
     "user": {
      "displayName": "Sarah Sotoudeh",
      "userId": "08742705193599823123"
     },
     "user_tz": 480
    },
    "id": "670HqvRnFKKB"
   },
   "outputs": [],
   "source": [
    "sponsors_old_bio=sponsors_old_bio.drop([\"bioguide_id_x\"], axis=1)\n",
    "sponsors_old_bio=sponsors_old_bio.rename({\"bioguide_id_y\":\"bioguide_id\"},axis=1)"
   ]
  },
  {
   "cell_type": "code",
   "execution_count": 9,
   "metadata": {
    "executionInfo": {
     "elapsed": 185,
     "status": "ok",
     "timestamp": 1708978806953,
     "user": {
      "displayName": "Sarah Sotoudeh",
      "userId": "08742705193599823123"
     },
     "user_tz": 480
    },
    "id": "iIW_oE25G2bJ"
   },
   "outputs": [],
   "source": [
    "thomas_id_only_bills = pd.concat([bills111, bills112])\n",
    "bills_old_bio=thomas_id_only_bills.merge(congress_members_short, left_on=\"thomas_id\", right_on=\"thomas_id\",how=\"left\")"
   ]
  },
  {
   "cell_type": "code",
   "execution_count": 10,
   "metadata": {
    "executionInfo": {
     "elapsed": 4,
     "status": "ok",
     "timestamp": 1708978806954,
     "user": {
      "displayName": "Sarah Sotoudeh",
      "userId": "08742705193599823123"
     },
     "user_tz": 480
    },
    "id": "Ew0dqFVwIReq"
   },
   "outputs": [],
   "source": [
    "bills_old_bio=bills_old_bio.drop([\"bioguide_id_x\"], axis=1)\n",
    "bills_old_bio=bills_old_bio.rename({\"bioguide_id_y\":\"bioguide_id\"},axis=1)"
   ]
  },
  {
   "cell_type": "markdown",
   "metadata": {
    "id": "VS2YmPoebxJP"
   },
   "source": [
    "### Cleaning"
   ]
  },
  {
   "cell_type": "markdown",
   "metadata": {
    "id": "UhCg9DXbFSVQ"
   },
   "source": [
    "**Concat the sponsors datasets (one with bioguide, one with thomas)**"
   ]
  },
  {
   "cell_type": "code",
   "execution_count": 11,
   "metadata": {
    "colab": {
     "base_uri": "https://localhost:8080/",
     "height": 424
    },
    "executionInfo": {
     "elapsed": 176,
     "status": "ok",
     "timestamp": 1708978807127,
     "user": {
      "displayName": "Sarah Sotoudeh",
      "userId": "08742705193599823123"
     },
     "user_tz": 480
    },
    "id": "QtC-BNs0EjQY",
    "outputId": "93e38633-ded9-4532-9bed-33974b144c46"
   },
   "outputs": [
    {
     "data": {
      "text/html": [
       "<div>\n",
       "<style scoped>\n",
       "    .dataframe tbody tr th:only-of-type {\n",
       "        vertical-align: middle;\n",
       "    }\n",
       "\n",
       "    .dataframe tbody tr th {\n",
       "        vertical-align: top;\n",
       "    }\n",
       "\n",
       "    .dataframe thead th {\n",
       "        text-align: right;\n",
       "    }\n",
       "</style>\n",
       "<table border=\"1\" class=\"dataframe\">\n",
       "  <thead>\n",
       "    <tr style=\"text-align: right;\">\n",
       "      <th></th>\n",
       "      <th>bill_id</th>\n",
       "      <th>bioguide_id</th>\n",
       "      <th>thomas_id</th>\n",
       "      <th>primary_sponsor</th>\n",
       "      <th>name</th>\n",
       "      <th>state</th>\n",
       "      <th>introduced_at</th>\n",
       "      <th>congress</th>\n",
       "      <th>bill_type</th>\n",
       "    </tr>\n",
       "  </thead>\n",
       "  <tbody>\n",
       "    <tr>\n",
       "      <th>0</th>\n",
       "      <td>hjres144-115</td>\n",
       "      <td>M001200</td>\n",
       "      <td>NaN</td>\n",
       "      <td>True</td>\n",
       "      <td>McEachin, A. Donald</td>\n",
       "      <td>VA</td>\n",
       "      <td>2018-12-11</td>\n",
       "      <td>115</td>\n",
       "      <td>hjres</td>\n",
       "    </tr>\n",
       "    <tr>\n",
       "      <th>1</th>\n",
       "      <td>hjres144-115</td>\n",
       "      <td>B001300</td>\n",
       "      <td>NaN</td>\n",
       "      <td>False</td>\n",
       "      <td>Barragan, Nanette Diaz</td>\n",
       "      <td>CA</td>\n",
       "      <td>2018-12-11</td>\n",
       "      <td>115</td>\n",
       "      <td>hjres</td>\n",
       "    </tr>\n",
       "    <tr>\n",
       "      <th>2</th>\n",
       "      <td>hjres144-115</td>\n",
       "      <td>J000298</td>\n",
       "      <td>NaN</td>\n",
       "      <td>False</td>\n",
       "      <td>Jayapal, Pramila</td>\n",
       "      <td>WA</td>\n",
       "      <td>2018-12-11</td>\n",
       "      <td>115</td>\n",
       "      <td>hjres</td>\n",
       "    </tr>\n",
       "    <tr>\n",
       "      <th>3</th>\n",
       "      <td>hjres143-115</td>\n",
       "      <td>F000372</td>\n",
       "      <td>NaN</td>\n",
       "      <td>True</td>\n",
       "      <td>Frelinghuysen, Rodney P.</td>\n",
       "      <td>NJ</td>\n",
       "      <td>2018-12-03</td>\n",
       "      <td>115</td>\n",
       "      <td>hjres</td>\n",
       "    </tr>\n",
       "    <tr>\n",
       "      <th>4</th>\n",
       "      <td>hjres126-115</td>\n",
       "      <td>Y000062</td>\n",
       "      <td>NaN</td>\n",
       "      <td>True</td>\n",
       "      <td>Yarmuth, John A.</td>\n",
       "      <td>KY</td>\n",
       "      <td>2018-01-19</td>\n",
       "      <td>115</td>\n",
       "      <td>hjres</td>\n",
       "    </tr>\n",
       "    <tr>\n",
       "      <th>...</th>\n",
       "      <td>...</td>\n",
       "      <td>...</td>\n",
       "      <td>...</td>\n",
       "      <td>...</td>\n",
       "      <td>...</td>\n",
       "      <td>...</td>\n",
       "      <td>...</td>\n",
       "      <td>...</td>\n",
       "      <td>...</td>\n",
       "    </tr>\n",
       "    <tr>\n",
       "      <th>152546</th>\n",
       "      <td>sjres15-113</td>\n",
       "      <td>W000779</td>\n",
       "      <td>NaN</td>\n",
       "      <td>False</td>\n",
       "      <td>Wyden, Ron</td>\n",
       "      <td>OR</td>\n",
       "      <td>2013-05-09</td>\n",
       "      <td>113</td>\n",
       "      <td>sjres</td>\n",
       "    </tr>\n",
       "    <tr>\n",
       "      <th>152547</th>\n",
       "      <td>sjres23-113</td>\n",
       "      <td>C001098</td>\n",
       "      <td>NaN</td>\n",
       "      <td>True</td>\n",
       "      <td>Cruz, Ted</td>\n",
       "      <td>TX</td>\n",
       "      <td>2013-10-02</td>\n",
       "      <td>113</td>\n",
       "      <td>sjres</td>\n",
       "    </tr>\n",
       "    <tr>\n",
       "      <th>152548</th>\n",
       "      <td>sjres24-113</td>\n",
       "      <td>C000127</td>\n",
       "      <td>NaN</td>\n",
       "      <td>True</td>\n",
       "      <td>Cantwell, Maria</td>\n",
       "      <td>WA</td>\n",
       "      <td>2013-10-10</td>\n",
       "      <td>113</td>\n",
       "      <td>sjres</td>\n",
       "    </tr>\n",
       "    <tr>\n",
       "      <th>152549</th>\n",
       "      <td>sjres24-113</td>\n",
       "      <td>B001265</td>\n",
       "      <td>NaN</td>\n",
       "      <td>False</td>\n",
       "      <td>Begich, Mark</td>\n",
       "      <td>AK</td>\n",
       "      <td>2013-10-10</td>\n",
       "      <td>113</td>\n",
       "      <td>sjres</td>\n",
       "    </tr>\n",
       "    <tr>\n",
       "      <th>152550</th>\n",
       "      <td>sjres24-113</td>\n",
       "      <td>M001153</td>\n",
       "      <td>NaN</td>\n",
       "      <td>False</td>\n",
       "      <td>Murkowski, Lisa</td>\n",
       "      <td>AK</td>\n",
       "      <td>2013-10-10</td>\n",
       "      <td>113</td>\n",
       "      <td>sjres</td>\n",
       "    </tr>\n",
       "  </tbody>\n",
       "</table>\n",
       "<p>504293 rows × 9 columns</p>\n",
       "</div>"
      ],
      "text/plain": [
       "             bill_id bioguide_id  thomas_id  primary_sponsor  \\\n",
       "0       hjres144-115     M001200        NaN             True   \n",
       "1       hjres144-115     B001300        NaN            False   \n",
       "2       hjres144-115     J000298        NaN            False   \n",
       "3       hjres143-115     F000372        NaN             True   \n",
       "4       hjres126-115     Y000062        NaN             True   \n",
       "...              ...         ...        ...              ...   \n",
       "152546   sjres15-113     W000779        NaN            False   \n",
       "152547   sjres23-113     C001098        NaN             True   \n",
       "152548   sjres24-113     C000127        NaN             True   \n",
       "152549   sjres24-113     B001265        NaN            False   \n",
       "152550   sjres24-113     M001153        NaN            False   \n",
       "\n",
       "                            name state introduced_at  congress bill_type  \n",
       "0            McEachin, A. Donald    VA    2018-12-11       115     hjres  \n",
       "1         Barragan, Nanette Diaz    CA    2018-12-11       115     hjres  \n",
       "2               Jayapal, Pramila    WA    2018-12-11       115     hjres  \n",
       "3       Frelinghuysen, Rodney P.    NJ    2018-12-03       115     hjres  \n",
       "4               Yarmuth, John A.    KY    2018-01-19       115     hjres  \n",
       "...                          ...   ...           ...       ...       ...  \n",
       "152546                Wyden, Ron    OR    2013-05-09       113     sjres  \n",
       "152547                 Cruz, Ted    TX    2013-10-02       113     sjres  \n",
       "152548           Cantwell, Maria    WA    2013-10-10       113     sjres  \n",
       "152549              Begich, Mark    AK    2013-10-10       113     sjres  \n",
       "152550           Murkowski, Lisa    AK    2013-10-10       113     sjres  \n",
       "\n",
       "[504293 rows x 9 columns]"
      ]
     },
     "execution_count": 11,
     "metadata": {},
     "output_type": "execute_result"
    }
   ],
   "source": [
    "sponsors_new = pd.concat([sponsors115, sponsors114, sponsors113])\n",
    "sponsors_new"
   ]
  },
  {
   "cell_type": "code",
   "execution_count": 12,
   "metadata": {
    "colab": {
     "base_uri": "https://localhost:8080/",
     "height": 424
    },
    "executionInfo": {
     "elapsed": 6,
     "status": "ok",
     "timestamp": 1708978807127,
     "user": {
      "displayName": "Sarah Sotoudeh",
      "userId": "08742705193599823123"
     },
     "user_tz": 480
    },
    "id": "WxTIbGWdEoLa",
    "outputId": "9425b3dc-6d3d-409d-cf8f-827d66e6e488"
   },
   "outputs": [
    {
     "data": {
      "text/html": [
       "<div>\n",
       "<style scoped>\n",
       "    .dataframe tbody tr th:only-of-type {\n",
       "        vertical-align: middle;\n",
       "    }\n",
       "\n",
       "    .dataframe tbody tr th {\n",
       "        vertical-align: top;\n",
       "    }\n",
       "\n",
       "    .dataframe thead th {\n",
       "        text-align: right;\n",
       "    }\n",
       "</style>\n",
       "<table border=\"1\" class=\"dataframe\">\n",
       "  <thead>\n",
       "    <tr style=\"text-align: right;\">\n",
       "      <th></th>\n",
       "      <th>bill_id</th>\n",
       "      <th>bioguide_id</th>\n",
       "      <th>thomas_id</th>\n",
       "      <th>primary_sponsor</th>\n",
       "      <th>name</th>\n",
       "      <th>state</th>\n",
       "      <th>introduced_at</th>\n",
       "      <th>congress</th>\n",
       "      <th>bill_type</th>\n",
       "    </tr>\n",
       "  </thead>\n",
       "  <tbody>\n",
       "    <tr>\n",
       "      <th>0</th>\n",
       "      <td>hconres1-111</td>\n",
       "      <td>S000480</td>\n",
       "      <td>1069.0</td>\n",
       "      <td>True</td>\n",
       "      <td>Slaughter, Louise McIntosh</td>\n",
       "      <td>NY</td>\n",
       "      <td>2009-01-06</td>\n",
       "      <td>111</td>\n",
       "      <td>hconres</td>\n",
       "    </tr>\n",
       "    <tr>\n",
       "      <th>1</th>\n",
       "      <td>hconres10-111</td>\n",
       "      <td>J000032</td>\n",
       "      <td>588.0</td>\n",
       "      <td>True</td>\n",
       "      <td>Jackson-Lee, Sheila</td>\n",
       "      <td>TX</td>\n",
       "      <td>2009-01-07</td>\n",
       "      <td>111</td>\n",
       "      <td>hconres</td>\n",
       "    </tr>\n",
       "    <tr>\n",
       "      <th>2</th>\n",
       "      <td>hconres100-111</td>\n",
       "      <td>B001230</td>\n",
       "      <td>1558.0</td>\n",
       "      <td>True</td>\n",
       "      <td>Baldwin, Tammy</td>\n",
       "      <td>WI</td>\n",
       "      <td>2009-04-21</td>\n",
       "      <td>111</td>\n",
       "      <td>hconres</td>\n",
       "    </tr>\n",
       "    <tr>\n",
       "      <th>3</th>\n",
       "      <td>hconres100-111</td>\n",
       "      <td>B001149</td>\n",
       "      <td>154.0</td>\n",
       "      <td>False</td>\n",
       "      <td>Burton, Dan</td>\n",
       "      <td>IN</td>\n",
       "      <td>2009-04-21</td>\n",
       "      <td>111</td>\n",
       "      <td>hconres</td>\n",
       "    </tr>\n",
       "    <tr>\n",
       "      <th>4</th>\n",
       "      <td>hconres100-111</td>\n",
       "      <td>C001062</td>\n",
       "      <td>1805.0</td>\n",
       "      <td>False</td>\n",
       "      <td>Conaway, K. Michael</td>\n",
       "      <td>TX</td>\n",
       "      <td>2009-04-21</td>\n",
       "      <td>111</td>\n",
       "      <td>hconres</td>\n",
       "    </tr>\n",
       "    <tr>\n",
       "      <th>...</th>\n",
       "      <td>...</td>\n",
       "      <td>...</td>\n",
       "      <td>...</td>\n",
       "      <td>...</td>\n",
       "      <td>...</td>\n",
       "      <td>...</td>\n",
       "      <td>...</td>\n",
       "      <td>...</td>\n",
       "      <td>...</td>\n",
       "    </tr>\n",
       "    <tr>\n",
       "      <th>349368</th>\n",
       "      <td>sres99-112</td>\n",
       "      <td>R000595</td>\n",
       "      <td>2084.0</td>\n",
       "      <td>False</td>\n",
       "      <td>Rubio, Marco</td>\n",
       "      <td>FL</td>\n",
       "      <td>2011-03-10</td>\n",
       "      <td>112</td>\n",
       "      <td>sres</td>\n",
       "    </tr>\n",
       "    <tr>\n",
       "      <th>349369</th>\n",
       "      <td>sres99-112</td>\n",
       "      <td>S001141</td>\n",
       "      <td>1548.0</td>\n",
       "      <td>False</td>\n",
       "      <td>Sessions, Jeff</td>\n",
       "      <td>AL</td>\n",
       "      <td>2011-03-10</td>\n",
       "      <td>112</td>\n",
       "      <td>sres</td>\n",
       "    </tr>\n",
       "    <tr>\n",
       "      <th>349370</th>\n",
       "      <td>sres99-112</td>\n",
       "      <td>T000250</td>\n",
       "      <td>1534.0</td>\n",
       "      <td>False</td>\n",
       "      <td>Thune, John</td>\n",
       "      <td>SD</td>\n",
       "      <td>2011-03-10</td>\n",
       "      <td>112</td>\n",
       "      <td>sres</td>\n",
       "    </tr>\n",
       "    <tr>\n",
       "      <th>349371</th>\n",
       "      <td>sres99-112</td>\n",
       "      <td>V000127</td>\n",
       "      <td>1609.0</td>\n",
       "      <td>False</td>\n",
       "      <td>Vitter, David</td>\n",
       "      <td>LA</td>\n",
       "      <td>2011-03-10</td>\n",
       "      <td>112</td>\n",
       "      <td>sres</td>\n",
       "    </tr>\n",
       "    <tr>\n",
       "      <th>349372</th>\n",
       "      <td>sres99-112</td>\n",
       "      <td>W000437</td>\n",
       "      <td>1226.0</td>\n",
       "      <td>False</td>\n",
       "      <td>Wicker, Roger F.</td>\n",
       "      <td>MS</td>\n",
       "      <td>2011-03-10</td>\n",
       "      <td>112</td>\n",
       "      <td>sres</td>\n",
       "    </tr>\n",
       "  </tbody>\n",
       "</table>\n",
       "<p>349373 rows × 9 columns</p>\n",
       "</div>"
      ],
      "text/plain": [
       "               bill_id bioguide_id  thomas_id  primary_sponsor  \\\n",
       "0         hconres1-111     S000480     1069.0             True   \n",
       "1        hconres10-111     J000032      588.0             True   \n",
       "2       hconres100-111     B001230     1558.0             True   \n",
       "3       hconres100-111     B001149      154.0            False   \n",
       "4       hconres100-111     C001062     1805.0            False   \n",
       "...                ...         ...        ...              ...   \n",
       "349368      sres99-112     R000595     2084.0            False   \n",
       "349369      sres99-112     S001141     1548.0            False   \n",
       "349370      sres99-112     T000250     1534.0            False   \n",
       "349371      sres99-112     V000127     1609.0            False   \n",
       "349372      sres99-112     W000437     1226.0            False   \n",
       "\n",
       "                              name state introduced_at  congress bill_type  \n",
       "0       Slaughter, Louise McIntosh    NY    2009-01-06       111   hconres  \n",
       "1              Jackson-Lee, Sheila    TX    2009-01-07       111   hconres  \n",
       "2                   Baldwin, Tammy    WI    2009-04-21       111   hconres  \n",
       "3                      Burton, Dan    IN    2009-04-21       111   hconres  \n",
       "4              Conaway, K. Michael    TX    2009-04-21       111   hconres  \n",
       "...                            ...   ...           ...       ...       ...  \n",
       "349368                Rubio, Marco    FL    2011-03-10       112      sres  \n",
       "349369              Sessions, Jeff    AL    2011-03-10       112      sres  \n",
       "349370                 Thune, John    SD    2011-03-10       112      sres  \n",
       "349371               Vitter, David    LA    2011-03-10       112      sres  \n",
       "349372            Wicker, Roger F.    MS    2011-03-10       112      sres  \n",
       "\n",
       "[349373 rows x 9 columns]"
      ]
     },
     "execution_count": 12,
     "metadata": {},
     "output_type": "execute_result"
    }
   ],
   "source": [
    "sponsors_old_bio = sponsors_old_bio[['bill_id', 'bioguide_id', 'thomas_id', 'primary_sponsor', 'name', 'state', 'introduced_at', 'congress', 'bill_type']]\n",
    "sponsors_old_bio"
   ]
  },
  {
   "cell_type": "code",
   "execution_count": 13,
   "metadata": {
    "colab": {
     "base_uri": "https://localhost:8080/",
     "height": 206
    },
    "executionInfo": {
     "elapsed": 192,
     "status": "ok",
     "timestamp": 1708978807314,
     "user": {
      "displayName": "Sarah Sotoudeh",
      "userId": "08742705193599823123"
     },
     "user_tz": 480
    },
    "id": "I3Zr3WGEEgsQ",
    "outputId": "73b2e40a-5780-472d-ed6b-97d1a814a918"
   },
   "outputs": [
    {
     "data": {
      "text/html": [
       "<div>\n",
       "<style scoped>\n",
       "    .dataframe tbody tr th:only-of-type {\n",
       "        vertical-align: middle;\n",
       "    }\n",
       "\n",
       "    .dataframe tbody tr th {\n",
       "        vertical-align: top;\n",
       "    }\n",
       "\n",
       "    .dataframe thead th {\n",
       "        text-align: right;\n",
       "    }\n",
       "</style>\n",
       "<table border=\"1\" class=\"dataframe\">\n",
       "  <thead>\n",
       "    <tr style=\"text-align: right;\">\n",
       "      <th></th>\n",
       "      <th>bill_id</th>\n",
       "      <th>bioguide_id</th>\n",
       "      <th>thomas_id</th>\n",
       "      <th>primary_sponsor</th>\n",
       "      <th>name</th>\n",
       "      <th>state</th>\n",
       "      <th>introduced_at</th>\n",
       "      <th>congress</th>\n",
       "      <th>bill_type</th>\n",
       "    </tr>\n",
       "  </thead>\n",
       "  <tbody>\n",
       "    <tr>\n",
       "      <th>0</th>\n",
       "      <td>hjres144-115</td>\n",
       "      <td>M001200</td>\n",
       "      <td>NaN</td>\n",
       "      <td>True</td>\n",
       "      <td>McEachin, A. Donald</td>\n",
       "      <td>VA</td>\n",
       "      <td>2018-12-11</td>\n",
       "      <td>115</td>\n",
       "      <td>hjres</td>\n",
       "    </tr>\n",
       "    <tr>\n",
       "      <th>1</th>\n",
       "      <td>hjres144-115</td>\n",
       "      <td>B001300</td>\n",
       "      <td>NaN</td>\n",
       "      <td>False</td>\n",
       "      <td>Barragan, Nanette Diaz</td>\n",
       "      <td>CA</td>\n",
       "      <td>2018-12-11</td>\n",
       "      <td>115</td>\n",
       "      <td>hjres</td>\n",
       "    </tr>\n",
       "    <tr>\n",
       "      <th>2</th>\n",
       "      <td>hjres144-115</td>\n",
       "      <td>J000298</td>\n",
       "      <td>NaN</td>\n",
       "      <td>False</td>\n",
       "      <td>Jayapal, Pramila</td>\n",
       "      <td>WA</td>\n",
       "      <td>2018-12-11</td>\n",
       "      <td>115</td>\n",
       "      <td>hjres</td>\n",
       "    </tr>\n",
       "    <tr>\n",
       "      <th>3</th>\n",
       "      <td>hjres143-115</td>\n",
       "      <td>F000372</td>\n",
       "      <td>NaN</td>\n",
       "      <td>True</td>\n",
       "      <td>Frelinghuysen, Rodney P.</td>\n",
       "      <td>NJ</td>\n",
       "      <td>2018-12-03</td>\n",
       "      <td>115</td>\n",
       "      <td>hjres</td>\n",
       "    </tr>\n",
       "    <tr>\n",
       "      <th>4</th>\n",
       "      <td>hjres126-115</td>\n",
       "      <td>Y000062</td>\n",
       "      <td>NaN</td>\n",
       "      <td>True</td>\n",
       "      <td>Yarmuth, John A.</td>\n",
       "      <td>KY</td>\n",
       "      <td>2018-01-19</td>\n",
       "      <td>115</td>\n",
       "      <td>hjres</td>\n",
       "    </tr>\n",
       "  </tbody>\n",
       "</table>\n",
       "</div>"
      ],
      "text/plain": [
       "        bill_id bioguide_id  thomas_id  primary_sponsor  \\\n",
       "0  hjres144-115     M001200        NaN             True   \n",
       "1  hjres144-115     B001300        NaN            False   \n",
       "2  hjres144-115     J000298        NaN            False   \n",
       "3  hjres143-115     F000372        NaN             True   \n",
       "4  hjres126-115     Y000062        NaN             True   \n",
       "\n",
       "                       name state introduced_at  congress bill_type  \n",
       "0       McEachin, A. Donald    VA    2018-12-11       115     hjres  \n",
       "1    Barragan, Nanette Diaz    CA    2018-12-11       115     hjres  \n",
       "2          Jayapal, Pramila    WA    2018-12-11       115     hjres  \n",
       "3  Frelinghuysen, Rodney P.    NJ    2018-12-03       115     hjres  \n",
       "4          Yarmuth, John A.    KY    2018-01-19       115     hjres  "
      ]
     },
     "execution_count": 13,
     "metadata": {},
     "output_type": "execute_result"
    }
   ],
   "source": [
    "# Concat\n",
    "sponsors = pd.concat([sponsors_new, sponsors_old_bio])\n",
    "sponsors.head()"
   ]
  },
  {
   "cell_type": "code",
   "execution_count": 14,
   "metadata": {
    "colab": {
     "base_uri": "https://localhost:8080/",
     "height": 206
    },
    "executionInfo": {
     "elapsed": 172,
     "status": "ok",
     "timestamp": 1708978807483,
     "user": {
      "displayName": "Sarah Sotoudeh",
      "userId": "08742705193599823123"
     },
     "user_tz": 480
    },
    "id": "vtmBSbeAI8gK",
    "outputId": "5fb8b625-9526-4a9c-f53e-8064c0de4c96"
   },
   "outputs": [
    {
     "data": {
      "text/html": [
       "<div>\n",
       "<style scoped>\n",
       "    .dataframe tbody tr th:only-of-type {\n",
       "        vertical-align: middle;\n",
       "    }\n",
       "\n",
       "    .dataframe tbody tr th {\n",
       "        vertical-align: top;\n",
       "    }\n",
       "\n",
       "    .dataframe thead th {\n",
       "        text-align: right;\n",
       "    }\n",
       "</style>\n",
       "<table border=\"1\" class=\"dataframe\">\n",
       "  <thead>\n",
       "    <tr style=\"text-align: right;\">\n",
       "      <th></th>\n",
       "      <th>bill_id</th>\n",
       "      <th>subjects_top_term</th>\n",
       "      <th>status</th>\n",
       "      <th>updated_at</th>\n",
       "      <th>status_at</th>\n",
       "      <th>introduced_at</th>\n",
       "      <th>bill_type</th>\n",
       "      <th>congress</th>\n",
       "      <th>number</th>\n",
       "      <th>thomas_id</th>\n",
       "      <th>bioguide_id</th>\n",
       "      <th>awaiting_signature</th>\n",
       "      <th>enacted</th>\n",
       "      <th>vetoed</th>\n",
       "      <th>active</th>\n",
       "      <th>house_passage_result</th>\n",
       "      <th>senate_passage_result</th>\n",
       "      <th>subjects</th>\n",
       "      <th>committees</th>\n",
       "    </tr>\n",
       "  </thead>\n",
       "  <tbody>\n",
       "    <tr>\n",
       "      <th>0</th>\n",
       "      <td>hjres144-115</td>\n",
       "      <td>Environmental protection</td>\n",
       "      <td>REFERRED</td>\n",
       "      <td>2019-04-18T15:56:48Z</td>\n",
       "      <td>2018-12-11</td>\n",
       "      <td>2018-12-11</td>\n",
       "      <td>hjres</td>\n",
       "      <td>115</td>\n",
       "      <td>144</td>\n",
       "      <td>NaN</td>\n",
       "      <td>M001200</td>\n",
       "      <td>False</td>\n",
       "      <td>False</td>\n",
       "      <td>False</td>\n",
       "      <td>False</td>\n",
       "      <td>NaN</td>\n",
       "      <td>NaN</td>\n",
       "      <td>['Air quality', 'Constitution and constitution...</td>\n",
       "      <td>['House Judiciary']</td>\n",
       "    </tr>\n",
       "    <tr>\n",
       "      <th>1</th>\n",
       "      <td>hjres143-115</td>\n",
       "      <td>Economics and public finance</td>\n",
       "      <td>ENACTED:SIGNED</td>\n",
       "      <td>2019-11-15T20:51:47Z</td>\n",
       "      <td>2018-12-07</td>\n",
       "      <td>2018-12-03</td>\n",
       "      <td>hjres</td>\n",
       "      <td>115</td>\n",
       "      <td>143</td>\n",
       "      <td>NaN</td>\n",
       "      <td>F000372</td>\n",
       "      <td>False</td>\n",
       "      <td>True</td>\n",
       "      <td>False</td>\n",
       "      <td>True</td>\n",
       "      <td>pass</td>\n",
       "      <td>pass</td>\n",
       "      <td>['Appropriations', 'Crimes against women', 'Di...</td>\n",
       "      <td>['House Appropriations']</td>\n",
       "    </tr>\n",
       "    <tr>\n",
       "      <th>2</th>\n",
       "      <td>hjres126-115</td>\n",
       "      <td>Government operations and politics</td>\n",
       "      <td>REFERRED</td>\n",
       "      <td>2019-11-15T21:34:19Z</td>\n",
       "      <td>2018-01-19</td>\n",
       "      <td>2018-01-19</td>\n",
       "      <td>hjres</td>\n",
       "      <td>115</td>\n",
       "      <td>126</td>\n",
       "      <td>NaN</td>\n",
       "      <td>Y000062</td>\n",
       "      <td>False</td>\n",
       "      <td>False</td>\n",
       "      <td>False</td>\n",
       "      <td>False</td>\n",
       "      <td>NaN</td>\n",
       "      <td>NaN</td>\n",
       "      <td>['Constitution and constitutional amendments',...</td>\n",
       "      <td>['House Judiciary', 'House Judiciary']</td>\n",
       "    </tr>\n",
       "    <tr>\n",
       "      <th>3</th>\n",
       "      <td>hjres119-115</td>\n",
       "      <td>Economics and public finance</td>\n",
       "      <td>REFERRED</td>\n",
       "      <td>2019-11-15T21:34:24Z</td>\n",
       "      <td>2017-10-23</td>\n",
       "      <td>2017-10-23</td>\n",
       "      <td>hjres</td>\n",
       "      <td>115</td>\n",
       "      <td>119</td>\n",
       "      <td>NaN</td>\n",
       "      <td>B001290</td>\n",
       "      <td>False</td>\n",
       "      <td>False</td>\n",
       "      <td>False</td>\n",
       "      <td>False</td>\n",
       "      <td>NaN</td>\n",
       "      <td>NaN</td>\n",
       "      <td>['Budget deficits and national debt', 'Constit...</td>\n",
       "      <td>['House Judiciary', 'House Judiciary']</td>\n",
       "    </tr>\n",
       "    <tr>\n",
       "      <th>4</th>\n",
       "      <td>hjres121-115</td>\n",
       "      <td>Families</td>\n",
       "      <td>REFERRED</td>\n",
       "      <td>2019-11-15T21:34:25Z</td>\n",
       "      <td>2017-11-16</td>\n",
       "      <td>2017-11-16</td>\n",
       "      <td>hjres</td>\n",
       "      <td>115</td>\n",
       "      <td>121</td>\n",
       "      <td>NaN</td>\n",
       "      <td>H001059</td>\n",
       "      <td>False</td>\n",
       "      <td>False</td>\n",
       "      <td>False</td>\n",
       "      <td>False</td>\n",
       "      <td>NaN</td>\n",
       "      <td>NaN</td>\n",
       "      <td>['Child care and development', 'Constitution a...</td>\n",
       "      <td>['House Judiciary', 'House Judiciary']</td>\n",
       "    </tr>\n",
       "  </tbody>\n",
       "</table>\n",
       "</div>"
      ],
      "text/plain": [
       "        bill_id                   subjects_top_term          status  \\\n",
       "0  hjres144-115            Environmental protection        REFERRED   \n",
       "1  hjres143-115        Economics and public finance  ENACTED:SIGNED   \n",
       "2  hjres126-115  Government operations and politics        REFERRED   \n",
       "3  hjres119-115        Economics and public finance        REFERRED   \n",
       "4  hjres121-115                            Families        REFERRED   \n",
       "\n",
       "             updated_at   status_at introduced_at bill_type  congress  number  \\\n",
       "0  2019-04-18T15:56:48Z  2018-12-11    2018-12-11     hjres       115     144   \n",
       "1  2019-11-15T20:51:47Z  2018-12-07    2018-12-03     hjres       115     143   \n",
       "2  2019-11-15T21:34:19Z  2018-01-19    2018-01-19     hjres       115     126   \n",
       "3  2019-11-15T21:34:24Z  2017-10-23    2017-10-23     hjres       115     119   \n",
       "4  2019-11-15T21:34:25Z  2017-11-16    2017-11-16     hjres       115     121   \n",
       "\n",
       "   thomas_id bioguide_id  awaiting_signature  enacted  vetoed  active  \\\n",
       "0        NaN     M001200               False    False   False   False   \n",
       "1        NaN     F000372               False     True   False    True   \n",
       "2        NaN     Y000062               False    False   False   False   \n",
       "3        NaN     B001290               False    False   False   False   \n",
       "4        NaN     H001059               False    False   False   False   \n",
       "\n",
       "  house_passage_result senate_passage_result  \\\n",
       "0                  NaN                   NaN   \n",
       "1                 pass                  pass   \n",
       "2                  NaN                   NaN   \n",
       "3                  NaN                   NaN   \n",
       "4                  NaN                   NaN   \n",
       "\n",
       "                                            subjects  \\\n",
       "0  ['Air quality', 'Constitution and constitution...   \n",
       "1  ['Appropriations', 'Crimes against women', 'Di...   \n",
       "2  ['Constitution and constitutional amendments',...   \n",
       "3  ['Budget deficits and national debt', 'Constit...   \n",
       "4  ['Child care and development', 'Constitution a...   \n",
       "\n",
       "                               committees  \n",
       "0                     ['House Judiciary']  \n",
       "1                ['House Appropriations']  \n",
       "2  ['House Judiciary', 'House Judiciary']  \n",
       "3  ['House Judiciary', 'House Judiciary']  \n",
       "4  ['House Judiciary', 'House Judiciary']  "
      ]
     },
     "execution_count": 14,
     "metadata": {},
     "output_type": "execute_result"
    }
   ],
   "source": [
    "bills_new = pd.concat([bills115, bills114, bills113])\n",
    "bills_new.head()"
   ]
  },
  {
   "cell_type": "code",
   "execution_count": 15,
   "metadata": {
    "executionInfo": {
     "elapsed": 4,
     "status": "ok",
     "timestamp": 1708978807484,
     "user": {
      "displayName": "Sarah Sotoudeh",
      "userId": "08742705193599823123"
     },
     "user_tz": 480
    },
    "id": "8odSwuqdI6Vm"
   },
   "outputs": [],
   "source": [
    "bills_old_bio = bills_old_bio[[\"bill_id\", \"subjects_top_term\", \"status\", \"updated_at\", \"status_at\", \"introduced_at\", \"bill_type\", \"congress\", \"number\", \"thomas_id\", \"bioguide_id\", \"awaiting_signature\", \"enacted\", \"vetoed\", \"active\", \"house_passage_result\", \"senate_passage_result\", \"subjects\", \"committees\"]]"
   ]
  },
  {
   "cell_type": "code",
   "execution_count": 16,
   "metadata": {
    "executionInfo": {
     "elapsed": 3,
     "status": "ok",
     "timestamp": 1708978807484,
     "user": {
      "displayName": "Sarah Sotoudeh",
      "userId": "08742705193599823123"
     },
     "user_tz": 480
    },
    "id": "DmY53RHLJ3B6"
   },
   "outputs": [],
   "source": [
    "# Concat\n",
    "bills = pd.concat([bills_old_bio, bills113, bills114, bills115])"
   ]
  },
  {
   "cell_type": "code",
   "execution_count": 17,
   "metadata": {
    "colab": {
     "base_uri": "https://localhost:8080/"
    },
    "executionInfo": {
     "elapsed": 3,
     "status": "ok",
     "timestamp": 1708978807484,
     "user": {
      "displayName": "Sarah Sotoudeh",
      "userId": "08742705193599823123"
     },
     "user_tz": 480
    },
    "id": "XyNWAtyLOeI0",
    "outputId": "2188843e-3bc7-4a6d-9e4a-015b1d4028f1"
   },
   "outputs": [
    {
     "data": {
      "text/plain": [
       "0.7045307665864559"
      ]
     },
     "execution_count": 17,
     "metadata": {},
     "output_type": "execute_result"
    }
   ],
   "source": [
    "# Find percentage of bills that are hr or s\n",
    "len(bills[(bills[\"bill_type\"] == \"hr\") | (bills[\"bill_type\"] == \"s\")]) / len(bills)"
   ]
  },
  {
   "cell_type": "code",
   "execution_count": 18,
   "metadata": {
    "executionInfo": {
     "elapsed": 394,
     "status": "ok",
     "timestamp": 1708978807876,
     "user": {
      "displayName": "Sarah Sotoudeh",
      "userId": "08742705193599823123"
     },
     "user_tz": 480
    },
    "id": "YMOXnpIocyRP"
   },
   "outputs": [],
   "source": [
    "all_sponsors = sponsors[(sponsors[\"bill_type\"] == \"hr\") | (sponsors[\"bill_type\"]==\"s\")]\n",
    "all_bills = bills[(bills[\"bill_type\"] == \"hr\") | (bills[\"bill_type\"] == \"s\")]"
   ]
  },
  {
   "cell_type": "markdown",
   "metadata": {
    "id": "pSnAj46kc4_c"
   },
   "source": [
    "\n",
    "**Merge data to match bioguide & icpsr & committee data**"
   ]
  },
  {
   "cell_type": "code",
   "execution_count": 19,
   "metadata": {
    "colab": {
     "base_uri": "https://localhost:8080/"
    },
    "executionInfo": {
     "elapsed": 5,
     "status": "ok",
     "timestamp": 1708978807877,
     "user": {
      "displayName": "Sarah Sotoudeh",
      "userId": "08742705193599823123"
     },
     "user_tz": 480
    },
    "id": "u3KKDLQMc7mk",
    "outputId": "0465817e-e592-4e23-ccdd-a143fe93f79d"
   },
   "outputs": [
    {
     "data": {
      "text/plain": [
       "(51237, 20)"
      ]
     },
     "execution_count": 19,
     "metadata": {},
     "output_type": "execute_result"
    }
   ],
   "source": [
    "icspr.drop(\"Unnamed: 0\",inplace=True, axis=1)\n",
    "bills_merge = icspr.merge(all_bills, left_on='bioguide_id', right_on='bioguide_id', how=\"right\")\n",
    "bills_merge.shape"
   ]
  },
  {
   "cell_type": "code",
   "execution_count": 20,
   "metadata": {
    "executionInfo": {
     "elapsed": 182,
     "status": "ok",
     "timestamp": 1708978808056,
     "user": {
      "displayName": "Sarah Sotoudeh",
      "userId": "08742705193599823123"
     },
     "user_tz": 480
    },
    "id": "Axn50jsGARlX"
   },
   "outputs": [],
   "source": [
    "hr_bills=bills_merge[bills_merge[\"bill_type\"]==\"hr\"]\n",
    "senate_bills=bills_merge[bills_merge[\"bill_type\"]==\"s\"]"
   ]
  },
  {
   "cell_type": "markdown",
   "metadata": {
    "id": "Z8ccUq2ifWkT"
   },
   "source": [
    "**Choose chamber of interest**"
   ]
  },
  {
   "cell_type": "code",
   "execution_count": 21,
   "metadata": {
    "colab": {
     "base_uri": "https://localhost:8080/"
    },
    "executionInfo": {
     "elapsed": 3,
     "status": "ok",
     "timestamp": 1708978808056,
     "user": {
      "displayName": "Sarah Sotoudeh",
      "userId": "08742705193599823123"
     },
     "user_tz": 480
    },
    "id": "wTUS5pKPdCPQ",
    "outputId": "73c18d85-dd7a-4832-ebf2-630fb040811a"
   },
   "outputs": [
    {
     "data": {
      "text/plain": [
       "array(['N000147', 'B001245', 'P000596', 'F000010', nan, 'C000380',\n",
       "       'S001177', 'P000610', 'R000600', 'G000582'], dtype=object)"
      ]
     },
     "execution_count": 21,
     "metadata": {},
     "output_type": "execute_result"
    }
   ],
   "source": [
    "# investigate na\n",
    "na_icpsr = bills_merge[bills_merge['icpsr_id'].isna()]\n",
    "na_icpsr[\"bioguide_id\"].unique()"
   ]
  },
  {
   "cell_type": "code",
   "execution_count": 22,
   "metadata": {
    "executionInfo": {
     "elapsed": 660,
     "status": "ok",
     "timestamp": 1708978808714,
     "user": {
      "displayName": "Sarah Sotoudeh",
      "userId": "08742705193599823123"
     },
     "user_tz": 480
    },
    "id": "CgHL4EWqeqIC"
   },
   "outputs": [],
   "source": [
    "# sponsors\n",
    "all_sponsors=icspr.merge(all_sponsors, left_on='bioguide_id', right_on='bioguide_id', how=\"right\")\n",
    "\n",
    "house_sponsors = all_sponsors[(all_sponsors[\"bill_type\"] == \"hr\")]\n",
    "senate_sponsors = all_sponsors[(all_sponsors[\"bill_type\"] == \"s\")]"
   ]
  },
  {
   "cell_type": "code",
   "execution_count": 23,
   "metadata": {
    "colab": {
     "base_uri": "https://localhost:8080/"
    },
    "executionInfo": {
     "elapsed": 6,
     "status": "ok",
     "timestamp": 1708978808714,
     "user": {
      "displayName": "Sarah Sotoudeh",
      "userId": "08742705193599823123"
     },
     "user_tz": 480
    },
    "id": "-ey1PbUA-T8I",
    "outputId": "795ba860-afd0-442f-845b-fe9bc4cfb186"
   },
   "outputs": [
    {
     "data": {
      "text/plain": [
       "5566340"
      ]
     },
     "execution_count": 23,
     "metadata": {},
     "output_type": "execute_result"
    }
   ],
   "source": [
    "house_sponsors.size"
   ]
  },
  {
   "cell_type": "code",
   "execution_count": 24,
   "metadata": {
    "executionInfo": {
     "elapsed": 5,
     "status": "ok",
     "timestamp": 1708978808714,
     "user": {
      "displayName": "Sarah Sotoudeh",
      "userId": "08742705193599823123"
     },
     "user_tz": 480
    },
    "id": "Z2av_NeTe6oz"
   },
   "outputs": [],
   "source": [
    "# committee\n",
    "house_committee_df = house_committee[house_committee['Congress'].isin([111.0,112.0,113.0, 114.0, 115.0])]\n",
    "senate_committee_df = senate_committee[senate_committee['Congress'].isin([111.0,112.0,113.0, 114.0, 115.0])]"
   ]
  },
  {
   "cell_type": "code",
   "execution_count": 25,
   "metadata": {
    "colab": {
     "base_uri": "https://localhost:8080/"
    },
    "executionInfo": {
     "elapsed": 5,
     "status": "ok",
     "timestamp": 1708978808714,
     "user": {
      "displayName": "Sarah Sotoudeh",
      "userId": "08742705193599823123"
     },
     "user_tz": 480
    },
    "id": "qmaTbqbbqCoy",
    "outputId": "666c384f-e877-47c8-bfc3-6f15e3b4e35f"
   },
   "outputs": [
    {
     "data": {
      "text/plain": [
       "Index(['Congress', 'Committee code', 'ID #', 'Name', 'Maj/Min',\n",
       "       'Rank Within Party Status', 'Party', 'Date of Assignment',\n",
       "       'Date of Termination', 'Senior Party Member', 'Committee Seniority',\n",
       "       'Committee Period of Service',\n",
       "       'Committee status at end of this Congress',\n",
       "       'Committee continuity of assignment in next Congress',\n",
       "       'Appointment Citation', 'Committee Name', 'State', 'CD', 'State Name',\n",
       "       'Notes'],\n",
       "      dtype='object')"
      ]
     },
     "execution_count": 25,
     "metadata": {},
     "output_type": "execute_result"
    }
   ],
   "source": [
    "house_committee_df.columns"
   ]
  },
  {
   "cell_type": "code",
   "execution_count": 26,
   "metadata": {
    "colab": {
     "base_uri": "https://localhost:8080/"
    },
    "executionInfo": {
     "elapsed": 4,
     "status": "ok",
     "timestamp": 1708978808714,
     "user": {
      "displayName": "Sarah Sotoudeh",
      "userId": "08742705193599823123"
     },
     "user_tz": 480
    },
    "id": "abIDBj3MqE3O",
    "outputId": "e0c6ef1f-2305-438d-ba57-f51c791f9995"
   },
   "outputs": [
    {
     "name": "stderr",
     "output_type": "stream",
     "text": [
      "/var/folders/ym/ph5q_6vn3fl5hj4x_hngrf_w0000gn/T/ipykernel_9108/3906259456.py:1: SettingWithCopyWarning: \n",
      "A value is trying to be set on a copy of a slice from a DataFrame\n",
      "\n",
      "See the caveats in the documentation: https://pandas.pydata.org/pandas-docs/stable/user_guide/indexing.html#returning-a-view-versus-a-copy\n",
      "  senate_committee_df.rename({\"Party Code\":\"Party\"},axis=1,inplace=True)\n"
     ]
    }
   ],
   "source": [
    "senate_committee_df.rename({\"Party Code\":\"Party\"},axis=1,inplace=True)"
   ]
  },
  {
   "cell_type": "code",
   "execution_count": 27,
   "metadata": {
    "colab": {
     "base_uri": "https://localhost:8080/"
    },
    "executionInfo": {
     "elapsed": 3,
     "status": "ok",
     "timestamp": 1708978808714,
     "user": {
      "displayName": "Sarah Sotoudeh",
      "userId": "08742705193599823123"
     },
     "user_tz": 480
    },
    "id": "AvGd3N_kqW7h",
    "outputId": "8e7b6abe-a15a-4554-ba12-cbc3ddf1b312"
   },
   "outputs": [
    {
     "data": {
      "text/plain": [
       "Index(['Congress', 'Committee Code', 'ID #', 'Name', 'Maj/Min',\n",
       "       'Rank Within Party', 'Party', 'Date of Appointment',\n",
       "       'Date of Termination', 'Unnamed: 9', 'Senior Party Member',\n",
       "       'Committee Seniority', 'Committee Period of Service',\n",
       "       'Committee status at end of this Congress',\n",
       "       'Committee continuity of assignment in next Congress',\n",
       "       'Appointment Citation', 'Committee Name', 'State Code', 'District',\n",
       "       'State Name', 'Notes'],\n",
       "      dtype='object')"
      ]
     },
     "execution_count": 27,
     "metadata": {},
     "output_type": "execute_result"
    }
   ],
   "source": [
    "senate_committee_df.columns"
   ]
  },
  {
   "cell_type": "code",
   "execution_count": 28,
   "metadata": {
    "colab": {
     "base_uri": "https://localhost:8080/"
    },
    "executionInfo": {
     "elapsed": 325,
     "status": "ok",
     "timestamp": 1708978809037,
     "user": {
      "displayName": "Sarah Sotoudeh",
      "userId": "08742705193599823123"
     },
     "user_tz": 480
    },
    "id": "Thp_tIjhfFvX",
    "outputId": "5fb5569b-3fb9-4559-88d1-f52e740a5cac"
   },
   "outputs": [
    {
     "name": "stderr",
     "output_type": "stream",
     "text": [
      "/var/folders/ym/ph5q_6vn3fl5hj4x_hngrf_w0000gn/T/ipykernel_9108/230096830.py:2: FutureWarning: The default value of regex will change from True to False in a future version.\n",
      "  hr_bills['committees'] = hr_bills['committees'].str.replace(\"\\[\", \"\")\n",
      "/var/folders/ym/ph5q_6vn3fl5hj4x_hngrf_w0000gn/T/ipykernel_9108/230096830.py:2: SettingWithCopyWarning: \n",
      "A value is trying to be set on a copy of a slice from a DataFrame.\n",
      "Try using .loc[row_indexer,col_indexer] = value instead\n",
      "\n",
      "See the caveats in the documentation: https://pandas.pydata.org/pandas-docs/stable/user_guide/indexing.html#returning-a-view-versus-a-copy\n",
      "  hr_bills['committees'] = hr_bills['committees'].str.replace(\"\\[\", \"\")\n",
      "/var/folders/ym/ph5q_6vn3fl5hj4x_hngrf_w0000gn/T/ipykernel_9108/230096830.py:3: FutureWarning: The default value of regex will change from True to False in a future version.\n",
      "  hr_bills['committees'] = hr_bills['committees'].str.replace(\"\\]\", \"\")\n",
      "/var/folders/ym/ph5q_6vn3fl5hj4x_hngrf_w0000gn/T/ipykernel_9108/230096830.py:3: SettingWithCopyWarning: \n",
      "A value is trying to be set on a copy of a slice from a DataFrame.\n",
      "Try using .loc[row_indexer,col_indexer] = value instead\n",
      "\n",
      "See the caveats in the documentation: https://pandas.pydata.org/pandas-docs/stable/user_guide/indexing.html#returning-a-view-versus-a-copy\n",
      "  hr_bills['committees'] = hr_bills['committees'].str.replace(\"\\]\", \"\")\n"
     ]
    }
   ],
   "source": [
    "# clean committee data on both bill sets\n",
    "hr_bills['committees'] = hr_bills['committees'].str.replace(\"\\[\", \"\")\n",
    "hr_bills['committees'] = hr_bills['committees'].str.replace(\"\\]\", \"\")\n",
    "\n",
    "hr_commit_list = hr_bills[\"committees\"]\n",
    "hr_bills=pd.concat([hr_bills, hr_commit_list.str.split(', ', expand=True)], axis=1)"
   ]
  },
  {
   "cell_type": "code",
   "execution_count": 29,
   "metadata": {
    "colab": {
     "base_uri": "https://localhost:8080/"
    },
    "executionInfo": {
     "elapsed": 246,
     "status": "ok",
     "timestamp": 1708978809281,
     "user": {
      "displayName": "Sarah Sotoudeh",
      "userId": "08742705193599823123"
     },
     "user_tz": 480
    },
    "id": "vNrZKQ1ofmCX",
    "outputId": "1023dd63-e0fd-4d16-90f4-a6c2589b0e26"
   },
   "outputs": [
    {
     "name": "stderr",
     "output_type": "stream",
     "text": [
      "/var/folders/ym/ph5q_6vn3fl5hj4x_hngrf_w0000gn/T/ipykernel_9108/2594445457.py:2: FutureWarning: The default value of regex will change from True to False in a future version.\n",
      "  senate_bills['committees'] = senate_bills['committees'].str.replace(\"\\[\", \"\")\n",
      "/var/folders/ym/ph5q_6vn3fl5hj4x_hngrf_w0000gn/T/ipykernel_9108/2594445457.py:2: SettingWithCopyWarning: \n",
      "A value is trying to be set on a copy of a slice from a DataFrame.\n",
      "Try using .loc[row_indexer,col_indexer] = value instead\n",
      "\n",
      "See the caveats in the documentation: https://pandas.pydata.org/pandas-docs/stable/user_guide/indexing.html#returning-a-view-versus-a-copy\n",
      "  senate_bills['committees'] = senate_bills['committees'].str.replace(\"\\[\", \"\")\n",
      "/var/folders/ym/ph5q_6vn3fl5hj4x_hngrf_w0000gn/T/ipykernel_9108/2594445457.py:3: FutureWarning: The default value of regex will change from True to False in a future version.\n",
      "  senate_bills['committees'] = senate_bills['committees'].str.replace(\"\\]\", \"\")\n",
      "/var/folders/ym/ph5q_6vn3fl5hj4x_hngrf_w0000gn/T/ipykernel_9108/2594445457.py:3: SettingWithCopyWarning: \n",
      "A value is trying to be set on a copy of a slice from a DataFrame.\n",
      "Try using .loc[row_indexer,col_indexer] = value instead\n",
      "\n",
      "See the caveats in the documentation: https://pandas.pydata.org/pandas-docs/stable/user_guide/indexing.html#returning-a-view-versus-a-copy\n",
      "  senate_bills['committees'] = senate_bills['committees'].str.replace(\"\\]\", \"\")\n"
     ]
    }
   ],
   "source": [
    "# clean committee data on both bill sets\n",
    "senate_bills['committees'] = senate_bills['committees'].str.replace(\"\\[\", \"\")\n",
    "senate_bills['committees'] = senate_bills['committees'].str.replace(\"\\]\", \"\")\n",
    "\n",
    "senate_commit_list = senate_bills[\"committees\"]\n",
    "senate_bills=pd.concat([senate_bills, senate_commit_list.str.split(', ', expand=True)], axis=1)"
   ]
  },
  {
   "cell_type": "code",
   "execution_count": 30,
   "metadata": {
    "colab": {
     "base_uri": "https://localhost:8080/"
    },
    "executionInfo": {
     "elapsed": 4,
     "status": "ok",
     "timestamp": 1708978809282,
     "user": {
      "displayName": "Sarah Sotoudeh",
      "userId": "08742705193599823123"
     },
     "user_tz": 480
    },
    "id": "kRwMQjENMdOI",
    "outputId": "d792d92b-f21b-486a-8a04-89ee21105031"
   },
   "outputs": [
    {
     "data": {
      "text/plain": [
       "Index([          'bioguide_id',              'icpsr_id',\n",
       "                     'bill_id',     'subjects_top_term',\n",
       "                      'status',            'updated_at',\n",
       "                   'status_at',         'introduced_at',\n",
       "                   'bill_type',              'congress',\n",
       "                      'number',             'thomas_id',\n",
       "          'awaiting_signature',               'enacted',\n",
       "                      'vetoed',                'active',\n",
       "        'house_passage_result', 'senate_passage_result',\n",
       "                    'subjects',            'committees',\n",
       "                             0,                       1,\n",
       "                             2,                       3,\n",
       "                             4,                       5,\n",
       "                             6,                       7,\n",
       "                             8,                       9,\n",
       "                            10,                      11,\n",
       "                            12],\n",
       "      dtype='object')"
      ]
     },
     "execution_count": 30,
     "metadata": {},
     "output_type": "execute_result"
    }
   ],
   "source": [
    "senate_bills.columns"
   ]
  },
  {
   "cell_type": "markdown",
   "metadata": {
    "id": "qP8_-XdP_rth"
   },
   "source": [
    "### Cosponsorship rates"
   ]
  },
  {
   "cell_type": "code",
   "execution_count": 31,
   "metadata": {
    "colab": {
     "base_uri": "https://localhost:8080/"
    },
    "executionInfo": {
     "elapsed": 287,
     "status": "ok",
     "timestamp": 1707856793865,
     "user": {
      "displayName": "Sarah Sotoudeh",
      "userId": "08742705193599823123"
     },
     "user_tz": 480
    },
    "id": "uv_TD0Kr_4Cu",
    "outputId": "ba14bc13-dd71-49bb-fd7b-af7dac006f2b"
   },
   "outputs": [
    {
     "data": {
      "text/html": [
       "<div>\n",
       "<style scoped>\n",
       "    .dataframe tbody tr th:only-of-type {\n",
       "        vertical-align: middle;\n",
       "    }\n",
       "\n",
       "    .dataframe tbody tr th {\n",
       "        vertical-align: top;\n",
       "    }\n",
       "\n",
       "    .dataframe thead th {\n",
       "        text-align: right;\n",
       "    }\n",
       "</style>\n",
       "<table border=\"1\" class=\"dataframe\">\n",
       "  <thead>\n",
       "    <tr style=\"text-align: right;\">\n",
       "      <th></th>\n",
       "      <th>congress</th>\n",
       "      <th>icpsr_id</th>\n",
       "      <th>Count</th>\n",
       "    </tr>\n",
       "  </thead>\n",
       "  <tbody>\n",
       "    <tr>\n",
       "      <th>0</th>\n",
       "      <td>111</td>\n",
       "      <td>2605.0</td>\n",
       "      <td>149</td>\n",
       "    </tr>\n",
       "    <tr>\n",
       "      <th>1</th>\n",
       "      <td>111</td>\n",
       "      <td>10713.0</td>\n",
       "      <td>468</td>\n",
       "    </tr>\n",
       "    <tr>\n",
       "      <th>2</th>\n",
       "      <td>111</td>\n",
       "      <td>12036.0</td>\n",
       "      <td>30</td>\n",
       "    </tr>\n",
       "    <tr>\n",
       "      <th>3</th>\n",
       "      <td>111</td>\n",
       "      <td>13035.0</td>\n",
       "      <td>272</td>\n",
       "    </tr>\n",
       "    <tr>\n",
       "      <th>4</th>\n",
       "      <td>111</td>\n",
       "      <td>13047.0</td>\n",
       "      <td>152</td>\n",
       "    </tr>\n",
       "  </tbody>\n",
       "</table>\n",
       "</div>"
      ],
      "text/plain": [
       "   congress  icpsr_id  Count\n",
       "0       111    2605.0    149\n",
       "1       111   10713.0    468\n",
       "2       111   12036.0     30\n",
       "3       111   13035.0    272\n",
       "4       111   13047.0    152"
      ]
     },
     "execution_count": 31,
     "metadata": {},
     "output_type": "execute_result"
    }
   ],
   "source": [
    "# Max cosponsor analysis for the House\n",
    "cosponsor_count=house_sponsors[house_sponsors[\"primary_sponsor\"] ==False].groupby([\"congress\",\"icpsr_id\"])[\"bill_id\"].nunique().reset_index(name='Count')\n",
    "cosponsor_count.head()"
   ]
  },
  {
   "cell_type": "code",
   "execution_count": 32,
   "metadata": {
    "id": "KfiRnTEaD9C0"
   },
   "outputs": [],
   "source": [
    "threshold = np.percentile(cosponsor_count[\"Count\"], 90)\n",
    "\n",
    "# Filter the dataset to keep only the numbers greater than the threshold\n",
    "high_cosponsors = cosponsor_count[cosponsor_count[\"Count\"] > threshold]\n",
    "high_cosponsors=high_cosponsors.sort_values(\"Count\", ascending=False)"
   ]
  },
  {
   "cell_type": "code",
   "execution_count": 33,
   "metadata": {
    "id": "49Dp8JfqEhbz"
   },
   "outputs": [],
   "source": [
    "total_bill_count = hr_bills.groupby(\"congress\")[\"bill_id\"].size()"
   ]
  },
  {
   "cell_type": "code",
   "execution_count": 34,
   "metadata": {
    "id": "R7_uvcYAJrJ9"
   },
   "outputs": [],
   "source": [
    "total_bill_count=total_bill_count.reset_index().rename(columns={\"bill_id\":\"bill_count\"})"
   ]
  },
  {
   "cell_type": "code",
   "execution_count": 35,
   "metadata": {
    "colab": {
     "base_uri": "https://localhost:8080/"
    },
    "executionInfo": {
     "elapsed": 3,
     "status": "ok",
     "timestamp": 1707856796980,
     "user": {
      "displayName": "Sarah Sotoudeh",
      "userId": "08742705193599823123"
     },
     "user_tz": 480
    },
    "id": "-X1SkJ5XLSw1",
    "outputId": "04307b37-9a86-4344-ac67-f331434b621f"
   },
   "outputs": [
    {
     "data": {
      "text/html": [
       "<div>\n",
       "<style scoped>\n",
       "    .dataframe tbody tr th:only-of-type {\n",
       "        vertical-align: middle;\n",
       "    }\n",
       "\n",
       "    .dataframe tbody tr th {\n",
       "        vertical-align: top;\n",
       "    }\n",
       "\n",
       "    .dataframe thead th {\n",
       "        text-align: right;\n",
       "    }\n",
       "</style>\n",
       "<table border=\"1\" class=\"dataframe\">\n",
       "  <thead>\n",
       "    <tr style=\"text-align: right;\">\n",
       "      <th></th>\n",
       "      <th>congress</th>\n",
       "      <th>bill_count</th>\n",
       "    </tr>\n",
       "  </thead>\n",
       "  <tbody>\n",
       "    <tr>\n",
       "      <th>0</th>\n",
       "      <td>111</td>\n",
       "      <td>6562</td>\n",
       "    </tr>\n",
       "    <tr>\n",
       "      <th>1</th>\n",
       "      <td>112</td>\n",
       "      <td>6723</td>\n",
       "    </tr>\n",
       "    <tr>\n",
       "      <th>2</th>\n",
       "      <td>113</td>\n",
       "      <td>5885</td>\n",
       "    </tr>\n",
       "    <tr>\n",
       "      <th>3</th>\n",
       "      <td>114</td>\n",
       "      <td>6526</td>\n",
       "    </tr>\n",
       "    <tr>\n",
       "      <th>4</th>\n",
       "      <td>115</td>\n",
       "      <td>7394</td>\n",
       "    </tr>\n",
       "  </tbody>\n",
       "</table>\n",
       "</div>"
      ],
      "text/plain": [
       "   congress  bill_count\n",
       "0       111        6562\n",
       "1       112        6723\n",
       "2       113        5885\n",
       "3       114        6526\n",
       "4       115        7394"
      ]
     },
     "execution_count": 35,
     "metadata": {},
     "output_type": "execute_result"
    }
   ],
   "source": [
    "total_bill_count"
   ]
  },
  {
   "cell_type": "code",
   "execution_count": 36,
   "metadata": {
    "colab": {
     "base_uri": "https://localhost:8080/"
    },
    "executionInfo": {
     "elapsed": 4,
     "status": "ok",
     "timestamp": 1707856798171,
     "user": {
      "displayName": "Sarah Sotoudeh",
      "userId": "08742705193599823123"
     },
     "user_tz": 480
    },
    "id": "LZ23IjA4Eure",
    "outputId": "868468aa-fb65-4766-eabe-6063ada91b8d"
   },
   "outputs": [
    {
     "data": {
      "text/html": [
       "<div>\n",
       "<style scoped>\n",
       "    .dataframe tbody tr th:only-of-type {\n",
       "        vertical-align: middle;\n",
       "    }\n",
       "\n",
       "    .dataframe tbody tr th {\n",
       "        vertical-align: top;\n",
       "    }\n",
       "\n",
       "    .dataframe thead th {\n",
       "        text-align: right;\n",
       "    }\n",
       "</style>\n",
       "<table border=\"1\" class=\"dataframe\">\n",
       "  <thead>\n",
       "    <tr style=\"text-align: right;\">\n",
       "      <th></th>\n",
       "      <th>congress</th>\n",
       "      <th>icpsr_id</th>\n",
       "      <th>Count</th>\n",
       "    </tr>\n",
       "  </thead>\n",
       "  <tbody>\n",
       "    <tr>\n",
       "      <th>107</th>\n",
       "      <td>111</td>\n",
       "      <td>20305.0</td>\n",
       "      <td>797</td>\n",
       "    </tr>\n",
       "    <tr>\n",
       "      <th>1864</th>\n",
       "      <td>115</td>\n",
       "      <td>20748.0</td>\n",
       "      <td>791</td>\n",
       "    </tr>\n",
       "    <tr>\n",
       "      <th>2185</th>\n",
       "      <td>115</td>\n",
       "      <td>29729.0</td>\n",
       "      <td>744</td>\n",
       "    </tr>\n",
       "    <tr>\n",
       "      <th>322</th>\n",
       "      <td>111</td>\n",
       "      <td>29325.0</td>\n",
       "      <td>734</td>\n",
       "    </tr>\n",
       "    <tr>\n",
       "      <th>1373</th>\n",
       "      <td>114</td>\n",
       "      <td>20305.0</td>\n",
       "      <td>695</td>\n",
       "    </tr>\n",
       "    <tr>\n",
       "      <th>...</th>\n",
       "      <td>...</td>\n",
       "      <td>...</td>\n",
       "      <td>...</td>\n",
       "    </tr>\n",
       "    <tr>\n",
       "      <th>370</th>\n",
       "      <td>111</td>\n",
       "      <td>29585.0</td>\n",
       "      <td>380</td>\n",
       "    </tr>\n",
       "    <tr>\n",
       "      <th>1437</th>\n",
       "      <td>114</td>\n",
       "      <td>20733.0</td>\n",
       "      <td>380</td>\n",
       "    </tr>\n",
       "    <tr>\n",
       "      <th>2155</th>\n",
       "      <td>115</td>\n",
       "      <td>29317.0</td>\n",
       "      <td>380</td>\n",
       "    </tr>\n",
       "    <tr>\n",
       "      <th>1566</th>\n",
       "      <td>114</td>\n",
       "      <td>21309.0</td>\n",
       "      <td>380</td>\n",
       "    </tr>\n",
       "    <tr>\n",
       "      <th>1738</th>\n",
       "      <td>114</td>\n",
       "      <td>29759.0</td>\n",
       "      <td>380</td>\n",
       "    </tr>\n",
       "  </tbody>\n",
       "</table>\n",
       "<p>222 rows × 3 columns</p>\n",
       "</div>"
      ],
      "text/plain": [
       "      congress  icpsr_id  Count\n",
       "107        111   20305.0    797\n",
       "1864       115   20748.0    791\n",
       "2185       115   29729.0    744\n",
       "322        111   29325.0    734\n",
       "1373       114   20305.0    695\n",
       "...        ...       ...    ...\n",
       "370        111   29585.0    380\n",
       "1437       114   20733.0    380\n",
       "2155       115   29317.0    380\n",
       "1566       114   21309.0    380\n",
       "1738       114   29759.0    380\n",
       "\n",
       "[222 rows x 3 columns]"
      ]
     },
     "execution_count": 36,
     "metadata": {},
     "output_type": "execute_result"
    }
   ],
   "source": [
    "high_cosponsors"
   ]
  },
  {
   "cell_type": "code",
   "execution_count": 37,
   "metadata": {
    "id": "SVojTI6KK2O7"
   },
   "outputs": [],
   "source": [
    "max_cosponsors=high_cosponsors.groupby(\"congress\")[\"Count\"].max()"
   ]
  },
  {
   "cell_type": "code",
   "execution_count": 38,
   "metadata": {
    "colab": {
     "base_uri": "https://localhost:8080/"
    },
    "executionInfo": {
     "elapsed": 2,
     "status": "ok",
     "timestamp": 1707856800030,
     "user": {
      "displayName": "Sarah Sotoudeh",
      "userId": "08742705193599823123"
     },
     "user_tz": 480
    },
    "id": "UKslue7mLWAI",
    "outputId": "ee6444d6-50db-471d-ed0d-fbe4adc1b87f"
   },
   "outputs": [
    {
     "data": {
      "text/html": [
       "<div>\n",
       "<style scoped>\n",
       "    .dataframe tbody tr th:only-of-type {\n",
       "        vertical-align: middle;\n",
       "    }\n",
       "\n",
       "    .dataframe tbody tr th {\n",
       "        vertical-align: top;\n",
       "    }\n",
       "\n",
       "    .dataframe thead th {\n",
       "        text-align: right;\n",
       "    }\n",
       "</style>\n",
       "<table border=\"1\" class=\"dataframe\">\n",
       "  <thead>\n",
       "    <tr style=\"text-align: right;\">\n",
       "      <th></th>\n",
       "      <th>congress</th>\n",
       "      <th>Count</th>\n",
       "      <th>bill_count</th>\n",
       "      <th>max_cosponsors_per_bill_count</th>\n",
       "    </tr>\n",
       "  </thead>\n",
       "  <tbody>\n",
       "    <tr>\n",
       "      <th>0</th>\n",
       "      <td>111</td>\n",
       "      <td>797</td>\n",
       "      <td>6562</td>\n",
       "      <td>0.121457</td>\n",
       "    </tr>\n",
       "    <tr>\n",
       "      <th>1</th>\n",
       "      <td>112</td>\n",
       "      <td>632</td>\n",
       "      <td>6723</td>\n",
       "      <td>0.094006</td>\n",
       "    </tr>\n",
       "    <tr>\n",
       "      <th>2</th>\n",
       "      <td>113</td>\n",
       "      <td>666</td>\n",
       "      <td>5885</td>\n",
       "      <td>0.113169</td>\n",
       "    </tr>\n",
       "    <tr>\n",
       "      <th>3</th>\n",
       "      <td>114</td>\n",
       "      <td>695</td>\n",
       "      <td>6526</td>\n",
       "      <td>0.106497</td>\n",
       "    </tr>\n",
       "    <tr>\n",
       "      <th>4</th>\n",
       "      <td>115</td>\n",
       "      <td>791</td>\n",
       "      <td>7394</td>\n",
       "      <td>0.106979</td>\n",
       "    </tr>\n",
       "  </tbody>\n",
       "</table>\n",
       "</div>"
      ],
      "text/plain": [
       "   congress  Count  bill_count  max_cosponsors_per_bill_count\n",
       "0       111    797        6562                       0.121457\n",
       "1       112    632        6723                       0.094006\n",
       "2       113    666        5885                       0.113169\n",
       "3       114    695        6526                       0.106497\n",
       "4       115    791        7394                       0.106979"
      ]
     },
     "execution_count": 38,
     "metadata": {},
     "output_type": "execute_result"
    }
   ],
   "source": [
    "max_cosponsors_by_congress = pd.merge(max_cosponsors, total_bill_count, on=\"congress\")\n",
    "max_cosponsors_by_congress[\"max_cosponsors_per_bill_count\"] = max_cosponsors_by_congress[\"Count\"] / max_cosponsors_by_congress[\"bill_count\"]\n",
    "max_cosponsors_by_congress"
   ]
  },
  {
   "cell_type": "code",
   "execution_count": 40,
   "metadata": {},
   "outputs": [
    {
     "data": {
      "text/html": [
       "<div>\n",
       "<style scoped>\n",
       "    .dataframe tbody tr th:only-of-type {\n",
       "        vertical-align: middle;\n",
       "    }\n",
       "\n",
       "    .dataframe tbody tr th {\n",
       "        vertical-align: top;\n",
       "    }\n",
       "\n",
       "    .dataframe thead th {\n",
       "        text-align: right;\n",
       "    }\n",
       "</style>\n",
       "<table border=\"1\" class=\"dataframe\">\n",
       "  <thead>\n",
       "    <tr style=\"text-align: right;\">\n",
       "      <th></th>\n",
       "      <th>congress</th>\n",
       "      <th>icpsr_id</th>\n",
       "      <th>Count</th>\n",
       "    </tr>\n",
       "  </thead>\n",
       "  <tbody>\n",
       "    <tr>\n",
       "      <th>0</th>\n",
       "      <td>111</td>\n",
       "      <td>1366.0</td>\n",
       "      <td>64</td>\n",
       "    </tr>\n",
       "    <tr>\n",
       "      <th>1</th>\n",
       "      <td>111</td>\n",
       "      <td>4812.0</td>\n",
       "      <td>145</td>\n",
       "    </tr>\n",
       "    <tr>\n",
       "      <th>2</th>\n",
       "      <td>111</td>\n",
       "      <td>10808.0</td>\n",
       "      <td>123</td>\n",
       "    </tr>\n",
       "    <tr>\n",
       "      <th>3</th>\n",
       "      <td>111</td>\n",
       "      <td>14009.0</td>\n",
       "      <td>144</td>\n",
       "    </tr>\n",
       "    <tr>\n",
       "      <th>4</th>\n",
       "      <td>111</td>\n",
       "      <td>14203.0</td>\n",
       "      <td>77</td>\n",
       "    </tr>\n",
       "  </tbody>\n",
       "</table>\n",
       "</div>"
      ],
      "text/plain": [
       "   congress  icpsr_id  Count\n",
       "0       111    1366.0     64\n",
       "1       111    4812.0    145\n",
       "2       111   10808.0    123\n",
       "3       111   14009.0    144\n",
       "4       111   14203.0     77"
      ]
     },
     "execution_count": 40,
     "metadata": {},
     "output_type": "execute_result"
    }
   ],
   "source": [
    "# Max cosponsor analysis for the Senate\n",
    "cosponsor_count_senate=senate_sponsors[senate_sponsors[\"primary_sponsor\"] ==False].groupby([\"congress\",\"icpsr_id\"])[\"bill_id\"].nunique().reset_index(name='Count')\n",
    "cosponsor_count_senate.head()"
   ]
  },
  {
   "cell_type": "code",
   "execution_count": 41,
   "metadata": {},
   "outputs": [],
   "source": [
    "threshold_senate = np.percentile(cosponsor_count_senate[\"Count\"], 90)\n",
    "\n",
    "# Filter the dataset to keep only the numbers greater than the threshold\n",
    "high_cosponsors_senate = cosponsor_count_senate[cosponsor_count_senate[\"Count\"] > threshold_senate]\n",
    "high_cosponsors_senate=high_cosponsors_senate.sort_values(\"Count\", ascending=False)"
   ]
  },
  {
   "cell_type": "code",
   "execution_count": 42,
   "metadata": {},
   "outputs": [],
   "source": [
    "total_bill_count_senate = senate_bills.groupby(\"congress\")[\"bill_id\"].size()"
   ]
  },
  {
   "cell_type": "code",
   "execution_count": 43,
   "metadata": {},
   "outputs": [],
   "source": [
    "total_bill_count_senate=total_bill_count_senate.reset_index().rename(columns={\"bill_id\":\"bill_count\"})"
   ]
  },
  {
   "cell_type": "code",
   "execution_count": 44,
   "metadata": {},
   "outputs": [],
   "source": [
    "max_cosponsors_senate=high_cosponsors_senate.groupby(\"congress\")[\"Count\"].max()"
   ]
  },
  {
   "cell_type": "code",
   "execution_count": 45,
   "metadata": {},
   "outputs": [
    {
     "data": {
      "text/html": [
       "<div>\n",
       "<style scoped>\n",
       "    .dataframe tbody tr th:only-of-type {\n",
       "        vertical-align: middle;\n",
       "    }\n",
       "\n",
       "    .dataframe tbody tr th {\n",
       "        vertical-align: top;\n",
       "    }\n",
       "\n",
       "    .dataframe thead th {\n",
       "        text-align: right;\n",
       "    }\n",
       "</style>\n",
       "<table border=\"1\" class=\"dataframe\">\n",
       "  <thead>\n",
       "    <tr style=\"text-align: right;\">\n",
       "      <th></th>\n",
       "      <th>congress</th>\n",
       "      <th>Count</th>\n",
       "      <th>bill_count</th>\n",
       "      <th>max_cosponsors_per_bill_count</th>\n",
       "    </tr>\n",
       "  </thead>\n",
       "  <tbody>\n",
       "    <tr>\n",
       "      <th>0</th>\n",
       "      <td>111</td>\n",
       "      <td>377</td>\n",
       "      <td>4059</td>\n",
       "      <td>0.092880</td>\n",
       "    </tr>\n",
       "    <tr>\n",
       "      <th>1</th>\n",
       "      <td>112</td>\n",
       "      <td>346</td>\n",
       "      <td>3716</td>\n",
       "      <td>0.093111</td>\n",
       "    </tr>\n",
       "    <tr>\n",
       "      <th>2</th>\n",
       "      <td>113</td>\n",
       "      <td>362</td>\n",
       "      <td>3019</td>\n",
       "      <td>0.119907</td>\n",
       "    </tr>\n",
       "    <tr>\n",
       "      <th>3</th>\n",
       "      <td>114</td>\n",
       "      <td>373</td>\n",
       "      <td>3548</td>\n",
       "      <td>0.105130</td>\n",
       "    </tr>\n",
       "    <tr>\n",
       "      <th>4</th>\n",
       "      <td>115</td>\n",
       "      <td>520</td>\n",
       "      <td>3805</td>\n",
       "      <td>0.136662</td>\n",
       "    </tr>\n",
       "  </tbody>\n",
       "</table>\n",
       "</div>"
      ],
      "text/plain": [
       "   congress  Count  bill_count  max_cosponsors_per_bill_count\n",
       "0       111    377        4059                       0.092880\n",
       "1       112    346        3716                       0.093111\n",
       "2       113    362        3019                       0.119907\n",
       "3       114    373        3548                       0.105130\n",
       "4       115    520        3805                       0.136662"
      ]
     },
     "execution_count": 45,
     "metadata": {},
     "output_type": "execute_result"
    }
   ],
   "source": [
    "max_cosponsors_by_congress_senate = pd.merge(max_cosponsors_senate, total_bill_count_senate, on=\"congress\")\n",
    "max_cosponsors_by_congress_senate[\"max_cosponsors_per_bill_count\"] = max_cosponsors_by_congress_senate[\"Count\"] / max_cosponsors_by_congress_senate[\"bill_count\"]\n",
    "max_cosponsors_by_congress_senate"
   ]
  },
  {
   "cell_type": "code",
   "execution_count": 51,
   "metadata": {},
   "outputs": [
    {
     "data": {
      "text/plain": [
       "72725"
      ]
     },
     "execution_count": 51,
     "metadata": {},
     "output_type": "execute_result"
    }
   ],
   "source": [
    "bills[\"bill_type\"].value_counts().sum()"
   ]
  },
  {
   "cell_type": "code",
   "execution_count": 52,
   "metadata": {},
   "outputs": [
    {
     "data": {
      "text/plain": [
       "hr         33090\n",
       "s          18147\n",
       "hjres      11111\n",
       "hres        5557\n",
       "sres        3327\n",
       "hconres      940\n",
       "sconres      304\n",
       "sjres        249\n",
       "Name: bill_type, dtype: int64"
      ]
     },
     "execution_count": 52,
     "metadata": {},
     "output_type": "execute_result"
    }
   ],
   "source": [
    "bills[\"bill_type\"].value_counts()"
   ]
  },
  {
   "cell_type": "code",
   "execution_count": 55,
   "metadata": {},
   "outputs": [
    {
     "data": {
      "text/plain": [
       "0.7045307665864559"
      ]
     },
     "execution_count": 55,
     "metadata": {},
     "output_type": "execute_result"
    }
   ],
   "source": [
    "(33090+18147)/72725"
   ]
  },
  {
   "cell_type": "markdown",
   "metadata": {},
   "source": [
    "### Length of Time for Bill Passage"
   ]
  },
  {
   "cell_type": "code",
   "execution_count": 40,
   "metadata": {},
   "outputs": [
    {
     "name": "stderr",
     "output_type": "stream",
     "text": [
      "/var/folders/ym/ph5q_6vn3fl5hj4x_hngrf_w0000gn/T/ipykernel_81364/979432227.py:2: SettingWithCopyWarning: \n",
      "A value is trying to be set on a copy of a slice from a DataFrame.\n",
      "Try using .loc[row_indexer,col_indexer] = value instead\n",
      "\n",
      "See the caveats in the documentation: https://pandas.pydata.org/pandas-docs/stable/user_guide/indexing.html#returning-a-view-versus-a-copy\n",
      "  pass_house_bills['introduced_at'] = pd.to_datetime(pass_house_bills['introduced_at'], errors='coerce', utc=True)\n",
      "/var/folders/ym/ph5q_6vn3fl5hj4x_hngrf_w0000gn/T/ipykernel_81364/979432227.py:3: SettingWithCopyWarning: \n",
      "A value is trying to be set on a copy of a slice from a DataFrame.\n",
      "Try using .loc[row_indexer,col_indexer] = value instead\n",
      "\n",
      "See the caveats in the documentation: https://pandas.pydata.org/pandas-docs/stable/user_guide/indexing.html#returning-a-view-versus-a-copy\n",
      "  pass_house_bills['status_at'] = pd.to_datetime(pass_house_bills['status_at'], errors='coerce', utc=True)\n",
      "/var/folders/ym/ph5q_6vn3fl5hj4x_hngrf_w0000gn/T/ipykernel_81364/979432227.py:5: SettingWithCopyWarning: \n",
      "A value is trying to be set on a copy of a slice from a DataFrame.\n",
      "Try using .loc[row_indexer,col_indexer] = value instead\n",
      "\n",
      "See the caveats in the documentation: https://pandas.pydata.org/pandas-docs/stable/user_guide/indexing.html#returning-a-view-versus-a-copy\n",
      "  pass_house_bills['time_to_pass_house_chamber'] = (pass_house_bills['status_at'] - pass_house_bills['introduced_at']).dt.days\n"
     ]
    }
   ],
   "source": [
    "pass_house_bills = hr_bills[hr_bills[\"status\"]==\"PASS_OVER:HOUSE\"]\n",
    "pass_house_bills['introduced_at'] = pd.to_datetime(pass_house_bills['introduced_at'], errors='coerce', utc=True)\n",
    "pass_house_bills['status_at'] = pd.to_datetime(pass_house_bills['status_at'], errors='coerce', utc=True)\n",
    "\n",
    "pass_house_bills['time_to_pass_house_chamber'] = (pass_house_bills['status_at'] - pass_house_bills['introduced_at']).dt.days"
   ]
  },
  {
   "cell_type": "code",
   "execution_count": 41,
   "metadata": {},
   "outputs": [
    {
     "data": {
      "text/plain": [
       "98.0"
      ]
     },
     "execution_count": 41,
     "metadata": {},
     "output_type": "execute_result"
    }
   ],
   "source": [
    "pass_house_bills[\"time_to_pass_house_chamber\"].median()"
   ]
  },
  {
   "cell_type": "code",
   "execution_count": 42,
   "metadata": {},
   "outputs": [
    {
     "data": {
      "text/plain": [
       "148.3164770332912"
      ]
     },
     "execution_count": 42,
     "metadata": {},
     "output_type": "execute_result"
    }
   ],
   "source": [
    "pass_house_bills[\"time_to_pass_house_chamber\"].mean()"
   ]
  },
  {
   "cell_type": "code",
   "execution_count": 43,
   "metadata": {},
   "outputs": [
    {
     "name": "stderr",
     "output_type": "stream",
     "text": [
      "/var/folders/ym/ph5q_6vn3fl5hj4x_hngrf_w0000gn/T/ipykernel_81364/1450161812.py:2: SettingWithCopyWarning: \n",
      "A value is trying to be set on a copy of a slice from a DataFrame.\n",
      "Try using .loc[row_indexer,col_indexer] = value instead\n",
      "\n",
      "See the caveats in the documentation: https://pandas.pydata.org/pandas-docs/stable/user_guide/indexing.html#returning-a-view-versus-a-copy\n",
      "  pass_senate_bills['introduced_at'] = pd.to_datetime(pass_senate_bills['introduced_at'], errors='coerce', utc=True)\n",
      "/var/folders/ym/ph5q_6vn3fl5hj4x_hngrf_w0000gn/T/ipykernel_81364/1450161812.py:3: SettingWithCopyWarning: \n",
      "A value is trying to be set on a copy of a slice from a DataFrame.\n",
      "Try using .loc[row_indexer,col_indexer] = value instead\n",
      "\n",
      "See the caveats in the documentation: https://pandas.pydata.org/pandas-docs/stable/user_guide/indexing.html#returning-a-view-versus-a-copy\n",
      "  pass_senate_bills['status_at'] = pd.to_datetime(pass_senate_bills['status_at'], errors='coerce', utc=True)\n",
      "/var/folders/ym/ph5q_6vn3fl5hj4x_hngrf_w0000gn/T/ipykernel_81364/1450161812.py:5: SettingWithCopyWarning: \n",
      "A value is trying to be set on a copy of a slice from a DataFrame.\n",
      "Try using .loc[row_indexer,col_indexer] = value instead\n",
      "\n",
      "See the caveats in the documentation: https://pandas.pydata.org/pandas-docs/stable/user_guide/indexing.html#returning-a-view-versus-a-copy\n",
      "  pass_senate_bills['time_to_pass_senate_chamber'] = (pass_senate_bills['status_at'] - pass_senate_bills['introduced_at']).dt.days\n"
     ]
    }
   ],
   "source": [
    "pass_senate_bills = senate_bills[senate_bills[\"status\"]==\"PASS_OVER:SENATE\"]\n",
    "pass_senate_bills['introduced_at'] = pd.to_datetime(pass_senate_bills['introduced_at'], errors='coerce', utc=True)\n",
    "pass_senate_bills['status_at'] = pd.to_datetime(pass_senate_bills['status_at'], errors='coerce', utc=True)\n",
    "\n",
    "pass_senate_bills['time_to_pass_senate_chamber'] = (pass_senate_bills['status_at'] - pass_senate_bills['introduced_at']).dt.days"
   ]
  },
  {
   "cell_type": "code",
   "execution_count": 44,
   "metadata": {},
   "outputs": [
    {
     "data": {
      "text/plain": [
       "148.0"
      ]
     },
     "execution_count": 44,
     "metadata": {},
     "output_type": "execute_result"
    }
   ],
   "source": [
    "pass_senate_bills[\"time_to_pass_senate_chamber\"].median()"
   ]
  },
  {
   "cell_type": "code",
   "execution_count": 45,
   "metadata": {},
   "outputs": [
    {
     "data": {
      "text/plain": [
       "195.7358024691358"
      ]
     },
     "execution_count": 45,
     "metadata": {},
     "output_type": "execute_result"
    }
   ],
   "source": [
    "pass_senate_bills[\"time_to_pass_senate_chamber\"].mean()"
   ]
  },
  {
   "cell_type": "markdown",
   "metadata": {},
   "source": [
    "### Basic Statistics"
   ]
  },
  {
   "cell_type": "code",
   "execution_count": 46,
   "metadata": {},
   "outputs": [
    {
     "data": {
      "text/plain": [
       "congress\n",
       "111    0.109875\n",
       "112    0.073033\n",
       "113    0.098726\n",
       "114    0.118449\n",
       "115    0.134974\n",
       "dtype: float64"
      ]
     },
     "execution_count": 46,
     "metadata": {},
     "output_type": "execute_result"
    }
   ],
   "source": [
    "# Pass house rate\n",
    "\n",
    "house_care_1=[\"PASS_OVER:HOUSE\", \"ENACTED:SIGNED\", \"PASS_BACK:SENATE\", \"VETOED:OVERRIDE_FAIL_ORIGINATING:HOUSE\", \"PROV_KILL:CLOTUREFAILED\", \"PROV_KILL:VETO\", \"ENACTED:TENDAYRULE\", \"CONFERENCE:PASSED:HOUSE\"]\n",
    "\n",
    "total_bills_per_congress = hr_bills.groupby('congress').size()\n",
    "\n",
    "(hr_bills[hr_bills['status'].isin(house_care_1)].groupby('congress').size()) / total_bills_per_congress"
   ]
  },
  {
   "cell_type": "code",
   "execution_count": 47,
   "metadata": {},
   "outputs": [
    {
     "data": {
      "text/plain": [
       "congress\n",
       "111    0.038708\n",
       "112    0.029600\n",
       "113    0.035514\n",
       "114    0.033098\n",
       "115    0.038410\n",
       "dtype: float64"
      ]
     },
     "execution_count": 47,
     "metadata": {},
     "output_type": "execute_result"
    }
   ],
   "source": [
    "# Pass everything rate\n",
    "\n",
    "enacted_1=[\"ENACTED:SIGNED\", \"ENACTED:TENDAYRULE\"]\n",
    "\n",
    "(hr_bills[hr_bills['status'].isin(enacted_1)].groupby('congress').size())/total_bills_per_congress"
   ]
  },
  {
   "cell_type": "code",
   "execution_count": 48,
   "metadata": {},
   "outputs": [
    {
     "name": "stderr",
     "output_type": "stream",
     "text": [
      "/var/folders/ym/ph5q_6vn3fl5hj4x_hngrf_w0000gn/T/ipykernel_81364/3516300295.py:3: FutureWarning: The default value of numeric_only in DataFrameGroupBy.mean is deprecated. In a future version, numeric_only will default to False. Either specify numeric_only or select only columns which should be valid for the function.\n",
      "  bills_per_congress.groupby(\"congress\").mean()\n"
     ]
    },
    {
     "data": {
      "text/html": [
       "<div>\n",
       "<style scoped>\n",
       "    .dataframe tbody tr th:only-of-type {\n",
       "        vertical-align: middle;\n",
       "    }\n",
       "\n",
       "    .dataframe tbody tr th {\n",
       "        vertical-align: top;\n",
       "    }\n",
       "\n",
       "    .dataframe thead th {\n",
       "        text-align: right;\n",
       "    }\n",
       "</style>\n",
       "<table border=\"1\" class=\"dataframe\">\n",
       "  <thead>\n",
       "    <tr style=\"text-align: right;\">\n",
       "      <th></th>\n",
       "      <th>icpsr_id</th>\n",
       "    </tr>\n",
       "    <tr>\n",
       "      <th>congress</th>\n",
       "      <th></th>\n",
       "    </tr>\n",
       "  </thead>\n",
       "  <tbody>\n",
       "    <tr>\n",
       "      <th>111</th>\n",
       "      <td>21.503596</td>\n",
       "    </tr>\n",
       "    <tr>\n",
       "      <th>112</th>\n",
       "      <td>21.437825</td>\n",
       "    </tr>\n",
       "    <tr>\n",
       "      <th>113</th>\n",
       "      <td>21.956999</td>\n",
       "    </tr>\n",
       "    <tr>\n",
       "      <th>114</th>\n",
       "      <td>20.932604</td>\n",
       "    </tr>\n",
       "    <tr>\n",
       "      <th>115</th>\n",
       "      <td>19.077407</td>\n",
       "    </tr>\n",
       "  </tbody>\n",
       "</table>\n",
       "</div>"
      ],
      "text/plain": [
       "           icpsr_id\n",
       "congress           \n",
       "111       21.503596\n",
       "112       21.437825\n",
       "113       21.956999\n",
       "114       20.932604\n",
       "115       19.077407"
      ]
     },
     "execution_count": 48,
     "metadata": {},
     "output_type": "execute_result"
    }
   ],
   "source": [
    "# Mean # of cosponsors per bill\n",
    "bills_per_congress = house_sponsors[house_sponsors[\"primary_sponsor\"] ==False].groupby([\"congress\",\"bill_id\"])[\"icpsr_id\"].nunique().reset_index()\n",
    "bills_per_congress.groupby(\"congress\").mean()"
   ]
  },
  {
   "cell_type": "code",
   "execution_count": 49,
   "metadata": {},
   "outputs": [
    {
     "data": {
      "text/html": [
       "<div>\n",
       "<style scoped>\n",
       "    .dataframe tbody tr th:only-of-type {\n",
       "        vertical-align: middle;\n",
       "    }\n",
       "\n",
       "    .dataframe tbody tr th {\n",
       "        vertical-align: top;\n",
       "    }\n",
       "\n",
       "    .dataframe thead th {\n",
       "        text-align: right;\n",
       "    }\n",
       "</style>\n",
       "<table border=\"1\" class=\"dataframe\">\n",
       "  <thead>\n",
       "    <tr style=\"text-align: right;\">\n",
       "      <th></th>\n",
       "      <th>bill_id</th>\n",
       "      <th>icpsr_id</th>\n",
       "    </tr>\n",
       "    <tr>\n",
       "      <th>congress</th>\n",
       "      <th></th>\n",
       "      <th></th>\n",
       "    </tr>\n",
       "  </thead>\n",
       "  <tbody>\n",
       "    <tr>\n",
       "      <th>111</th>\n",
       "      <td>hr999-111</td>\n",
       "      <td>418</td>\n",
       "    </tr>\n",
       "    <tr>\n",
       "      <th>112</th>\n",
       "      <td>hr999-112</td>\n",
       "      <td>424</td>\n",
       "    </tr>\n",
       "    <tr>\n",
       "      <th>113</th>\n",
       "      <td>hr999-113</td>\n",
       "      <td>378</td>\n",
       "    </tr>\n",
       "    <tr>\n",
       "      <th>114</th>\n",
       "      <td>hr999-114</td>\n",
       "      <td>331</td>\n",
       "    </tr>\n",
       "    <tr>\n",
       "      <th>115</th>\n",
       "      <td>hr999-115</td>\n",
       "      <td>380</td>\n",
       "    </tr>\n",
       "  </tbody>\n",
       "</table>\n",
       "</div>"
      ],
      "text/plain": [
       "            bill_id  icpsr_id\n",
       "congress                     \n",
       "111       hr999-111       418\n",
       "112       hr999-112       424\n",
       "113       hr999-113       378\n",
       "114       hr999-114       331\n",
       "115       hr999-115       380"
      ]
     },
     "execution_count": 49,
     "metadata": {},
     "output_type": "execute_result"
    }
   ],
   "source": [
    "# Max # of cosponsors per bill\n",
    "bills_per_congress.groupby(\"congress\").max()"
   ]
  },
  {
   "cell_type": "code",
   "execution_count": 50,
   "metadata": {},
   "outputs": [
    {
     "data": {
      "text/plain": [
       "congress\n",
       "111    235.716216\n",
       "112    205.628118\n",
       "113    227.454545\n",
       "114    243.531818\n",
       "115    250.865772\n",
       "Name: bill_id, dtype: float64"
      ]
     },
     "execution_count": 50,
     "metadata": {},
     "output_type": "execute_result"
    }
   ],
   "source": [
    "# Mean # of bills per cosponsor\n",
    "bills_per_cosponsor = house_sponsors[house_sponsors[\"primary_sponsor\"] ==False].groupby([\"congress\",\"icpsr_id\"])[\"bill_id\"].nunique().reset_index()\n",
    "bills_per_cosponsor.groupby(\"congress\")[\"bill_id\"].mean()"
   ]
  },
  {
   "cell_type": "code",
   "execution_count": 51,
   "metadata": {},
   "outputs": [
    {
     "data": {
      "text/plain": [
       "congress\n",
       "111    797\n",
       "112    632\n",
       "113    666\n",
       "114    695\n",
       "115    791\n",
       "Name: bill_id, dtype: int64"
      ]
     },
     "execution_count": 51,
     "metadata": {},
     "output_type": "execute_result"
    }
   ],
   "source": [
    "# Max # of bills per cosponsor\n",
    "bills_per_cosponsor.groupby(\"congress\")[\"bill_id\"].max()"
   ]
  },
  {
   "cell_type": "markdown",
   "metadata": {
    "id": "cbj-JfQmy0S9"
   },
   "source": [
    "### Dictionaries"
   ]
  },
  {
   "cell_type": "code",
   "execution_count": 52,
   "metadata": {
    "id": "Kh4mHHPFy3FK"
   },
   "outputs": [],
   "source": [
    "# key is name, value is index\n",
    "def icpsr_index_dict(unique_sponsors):\n",
    "\t\ticpsr_to_index = {} # key\n",
    "\t\tindex_to_icpsr = {} # reversed_key\n",
    "\t\tfor i, icpsr in zip(range(len(unique_sponsors)), unique_sponsors):\n",
    "\t\t\t\ticpsr_to_index[icpsr] = i\n",
    "\t\t\t\tindex_to_icpsr[i] = icpsr\n",
    "\t\treturn icpsr_to_index, index_to_icpsr"
   ]
  },
  {
   "cell_type": "code",
   "execution_count": 53,
   "metadata": {
    "id": "Nv0mxo45Bw-D"
   },
   "outputs": [],
   "source": [
    "def id_party_dict(chamber, icpsr_to_index):\n",
    "\tif chamber == \"house\":\n",
    "\t\tcommittee = house_committee_df\n",
    "\telse:\n",
    "\t\tcommittee = senate_committee_df\n",
    "\tid_to_party = {}\n",
    "\tfor cosponsor_id in list(icpsr_to_index.keys()):\n",
    "\t\t\tparty = committee[committee['ID #'] == cosponsor_id]['Party']\n",
    "\t\t\tif len(party) < 1: continue\n",
    "\t\t\tid_to_party[cosponsor_id] = \"Rep\" if list(party)[0] == 200 else \"Dem\"\n",
    "\treturn id_to_party"
   ]
  },
  {
   "cell_type": "code",
   "execution_count": 54,
   "metadata": {
    "id": "X23aebMWCy54"
   },
   "outputs": [],
   "source": [
    "def congress_party_dict(unique_congress, chamber):\n",
    "\tif chamber == \"house\":\n",
    "\t\tcommittee = house_committee_df\n",
    "\telse:\n",
    "\t\tcommittee = senate_committee_df\n",
    "\n",
    "\tcongress_party_dict = {}\n",
    "\n",
    "\tfor congress_num in unique_congress:\n",
    "\t\tcommittee_now = committee[committee[\"Congress\"] == congress_num]\n",
    "\t\tdf = committee_now.drop_duplicates('ID #')\n",
    "\t\tdem_count = len(df[df[\"Party\"] == 100.0])\n",
    "\t\trep_count = len(df[df[\"Party\"] == 200.0])\n",
    "\t\tcongress_party_dict[congress_num] = [dem_count, rep_count]\n",
    "\treturn(congress_party_dict)"
   ]
  },
  {
   "cell_type": "code",
   "execution_count": 55,
   "metadata": {
    "id": "VMtqvwWc1L3P"
   },
   "outputs": [],
   "source": [
    "def congress_people_dict(chamber):\n",
    "\tif chamber == \"house\":\n",
    "\t\tsponsors = house_sponsors\n",
    "\telse:\n",
    "\t\tsponsors = senate_sponsors\n",
    "\n",
    "\tcongress_people_dict = {}\n",
    "\n",
    "\tunique_congresses = sponsors[\"congress\"].unique()\n",
    "\tunique_sponsors = sponsors[\"icpsr_id\"].unique()\n",
    "\ticpsr_to_index, index_to_icpsr = icpsr_index_dict(unique_sponsors)\n",
    "\n",
    "\tfor congress in unique_congresses:\n",
    "\t\tids = sponsors[sponsors[\"congress\"] == congress][\"icpsr_id\"].dropna().unique()\n",
    "\t\tcongress_people_dict[congress] = [icpsr_to_index[id] for id in ids]\n",
    "\n",
    "\treturn(congress_people_dict)"
   ]
  },
  {
   "cell_type": "code",
   "execution_count": 56,
   "metadata": {
    "id": "8WUL0_ahxVG3"
   },
   "outputs": [],
   "source": [
    "def congress_bill_topic_diff(chamber, carelist):\n",
    "\tif chamber == \"house\":\n",
    "\t\tbills = hr_bills\n",
    "\telse:\n",
    "\t\tbills = senate_bills\n",
    "\n",
    "\tunique_congresses = bills[\"congress\"].unique()\n",
    "\tcongress_bill_topic_diff_dict ={}\n",
    "\n",
    "\tbills_copy=bills.copy()\n",
    "\tbills_copy[\"pass_chamber\"] = 0\n",
    "\n",
    "\tfor index, row in bills_copy.iterrows():\n",
    "\t\tif row[\"status\"] in carelist:\n",
    "\t\t\tbills_copy.loc[index, \"pass_chamber\"] = 1\n",
    "\n",
    "\n",
    "\tfor congress in unique_congresses:\n",
    "\t\tbills_copy_specific_congress = bills_copy[bills_copy[\"congress\"] == congress]\n",
    "\n",
    "\t\tgrouped_data = bills_copy_specific_congress.groupby(\"subjects_top_term\")[\"pass_chamber\"].mean().reset_index()\n",
    "\t\tgrouped_data = grouped_data.sort_values(by=\"pass_chamber\", ascending=False)\n",
    "\n",
    "\t\tthreshold_25 = grouped_data['pass_chamber'].quantile(0.25)\n",
    "\t\tthreshold_50 = grouped_data[\"pass_chamber\"].quantile(0.50)\n",
    "\n",
    "\t\t# filter data based on thresholds\n",
    "\t\tlowest_25_data = grouped_data[grouped_data['pass_chamber'] <= threshold_25]\n",
    "\t\tlowest_50_data = grouped_data[(grouped_data['pass_chamber'] > threshold_25) & (grouped_data['pass_chamber'] <= threshold_50)]\n",
    "\n",
    "\t\tbill_topics_lowest_25 = lowest_25_data['subjects_top_term'].tolist()\n",
    "\t\tbill_topics_26_to_50 = lowest_50_data['subjects_top_term'].tolist()\n",
    "\n",
    "\t\t# store in dictionary\n",
    "\t\tcongress_bill_topic_diff_dict[congress] =\t(bill_topics_lowest_25, bill_topics_26_to_50)\n",
    "\n",
    "\treturn(congress_bill_topic_diff_dict)"
   ]
  },
  {
   "cell_type": "code",
   "execution_count": 57,
   "metadata": {
    "id": "mmhFNLyr27IO"
   },
   "outputs": [],
   "source": [
    "care_senate_cham=[\"ENACTED:SIGNED\", \"PASS_OVER:SENATE\", \"PROV_KILL:CLOTUREFAILED\", \"PROV_KILL:SUSPENSIONFAILED\", \"PASS_BACK:HOUSE\", \"PASSED:BILL\", \"VETOED:OVERRIDE_FAIL_ORIGINATING:SENATE\", \"ENACTED:VETO_OVERRIDE\"]\n",
    "senate_cham_dict_topics = congress_bill_topic_diff(\"senate\", care_senate_cham)"
   ]
  },
  {
   "cell_type": "markdown",
   "metadata": {
    "id": "wpTjKI53Jmq8"
   },
   "source": [
    "## Matrix Building"
   ]
  },
  {
   "cell_type": "markdown",
   "metadata": {
    "id": "7ljSnZApg37w"
   },
   "source": [
    "### Simple Adjacency Matrix"
   ]
  },
  {
   "cell_type": "code",
   "execution_count": 58,
   "metadata": {
    "id": "cBfy5wYIMaGl"
   },
   "outputs": [],
   "source": [
    "# carelist is a list of given statuses we care about\n",
    "# chamber is house or senate\n",
    "# normalized by total number of bills that passed in a given month\n",
    "def build_co_adj_matrix(carelist, chamber):\n",
    "\tif chamber == \"house\":\n",
    "\t\tinterest_bills = hr_bills\n",
    "\t\tcaresponsors = house_sponsors\n",
    "\telse:\n",
    "\t\tinterest_bills = senate_bills\n",
    "\t\tcaresponsors = senate_sponsors\n",
    "\n",
    "\tunique_sponsors = caresponsors[\"icpsr_id\"].unique()\n",
    "\n",
    "\ticpsr_to_index, index_to_icpsr = icpsr_index_dict(unique_sponsors)\n",
    "\n",
    "\t# any bill\n",
    "\tinterest_bills_all = interest_bills\n",
    "\tinterest_bills_all[\"introduced_at\"] = pd.to_datetime(interest_bills_all[\"introduced_at\"])\n",
    "\n",
    "\tadj_matrices =[]\n",
    "\n",
    "\tlast_month = None\n",
    "\tfor month in sorted(interest_bills_all[\"introduced_at\"].dt.to_period(\"M\").unique()):\n",
    "\t\tprint(month)\n",
    "\t\tadj_matrix = np.zeros((len(unique_sponsors), len(unique_sponsors), 2))\n",
    "\t\t# Get this month's bills\n",
    "\t\tall_bills_month_df = interest_bills_all[interest_bills_all[\"introduced_at\"].dt.to_period(\"M\")==month]\n",
    "\n",
    "\t\t# Fill out matrix\n",
    "\t\tfor bill,status in all_bills_month_df[[\"bill_id\", \"status\"]].to_numpy():\n",
    "\t\t\tsponsors = list(caresponsors[caresponsors['bill_id'] == bill]['icpsr_id'])\n",
    "\n",
    "\t\t\tfor i in range(len(sponsors)):\n",
    "\t\t\t\t\tfor j in range(i+1, len(sponsors)):\n",
    "\t\t\t\t\t\t\tid_1, id_2 = sponsors[i], sponsors[j]\n",
    "\t\t\t\t\t\t\tif np.isnan(id_1) or np.isnan(id_2): continue\n",
    "\t\t\t\t\t\t\t# fill out denominator array\n",
    "\t\t\t\t\t\t\tif status in carelist:\n",
    "\t\t\t\t\t\t\t\tadj_matrix[icpsr_to_index[id_1], icpsr_to_index[id_2]] += 1\n",
    "\t\t\t\t\t\t\t\tadj_matrix[icpsr_to_index[id_2], icpsr_to_index[id_1]] += 1\n",
    "\t\t\t\t\t\t\telse: #just add to denominator\n",
    "\t\t\t\t\t\t\t\tadj_matrix[icpsr_to_index[id_1], icpsr_to_index[id_2], 1] += 1\n",
    "\t\t\t\t\t\t\t\tadj_matrix[icpsr_to_index[id_2], icpsr_to_index[id_1], 1] += 1\n",
    "\n",
    "\t\tif last_month != None:\n",
    "\t\t\twhile (last_month +1 != month):\n",
    "\t\t\t\t\tadj_matrices.append(np.zeros((len(unique_sponsors), len(unique_sponsors), 2)))\n",
    "\t\t\t\t\tlast_month += 1\n",
    "\t\tlast_month = month\n",
    "\t\tadj_matrices.append(adj_matrix)\n",
    "\n",
    "\tadj_matrices = np.array(adj_matrices)\n",
    "\treturn adj_matrices"
   ]
  },
  {
   "cell_type": "code",
   "execution_count": 59,
   "metadata": {
    "id": "HNAX5jizhUEy"
   },
   "outputs": [],
   "source": [
    "# carelist is a list of given statuses we care about\n",
    "# chamber is house or senate\n",
    "# normalized by total number of bills that passed in a given month\n",
    "def build_norm_adj_matrix(carelist, chamber):\n",
    "\tif chamber == \"house\":\n",
    "\t\tinterest_bills = hr_bills\n",
    "\t\tcaresponsors = house_sponsors\n",
    "\telse:\n",
    "\t\tinterest_bills = senate_bills\n",
    "\t\tcaresponsors = senate_sponsors\n",
    "\n",
    "\tunique_sponsors = caresponsors[\"icpsr_id\"].unique()\n",
    "\n",
    "\ticpsr_to_index, index_to_icpsr = icpsr_index_dict(unique_sponsors)\n",
    "\n",
    "\tinterest_bills = interest_bills[interest_bills['status'].isin(carelist)]\n",
    "\tinterest_bills[\"introduced_at\"] = pd.to_datetime(interest_bills[\"introduced_at\"])\n",
    "\n",
    "\tadj_matrices =[]\n",
    "\n",
    "\tlast_month = None\n",
    "\tfor month in sorted(interest_bills[\"introduced_at\"].dt.to_period(\"M\").unique()):\n",
    "\t\tprint(month)\n",
    "\t\tadj_matrix = np.zeros((len(unique_sponsors), len(unique_sponsors), 2))\n",
    "\t\t# Get this month's bills\n",
    "\t\tbills_month_df = interest_bills[interest_bills['introduced_at'].dt.to_period('M') == month]\n",
    "\t\tbills = bills_month_df['bill_id'].unique()\n",
    "\n",
    "\t\t# Fill out matrix\n",
    "\t\tfor bill in bills:\n",
    "\t\t\t\tsponsors = list(caresponsors[caresponsors['bill_id'] == bill]['icpsr_id'])\n",
    "\t\t\t\tfor i in range(len(sponsors)):\n",
    "\t\t\t\t\t\tfor j in range(i+1, len(sponsors)):\n",
    "\t\t\t\t\t\t\t\tid_1, id_2 = sponsors[i], sponsors[j]\n",
    "\t\t\t\t\t\t\t\tif np.isnan(id_1) or np.isnan(id_2): continue\n",
    "\t\t\t\t\t\t\t\t# fill out numerator array\n",
    "\t\t\t\t\t\t\t\tadj_matrix[icpsr_to_index[id_1], icpsr_to_index[id_2], 0] += 1\n",
    "\t\t\t\t\t\t\t\tadj_matrix[icpsr_to_index[id_2], icpsr_to_index[id_1], 0] += 1\n",
    "\n",
    "\t\tadj_matrix[:,:,1] = len(bills)\n",
    "\n",
    "\t\tif last_month != None:\n",
    "\t\t\twhile (last_month +1 != month):\n",
    "\t\t\t\t\tadj_matrices.append(np.zeros((len(unique_sponsors), len(unique_sponsors), 2)))\n",
    "\t\t\t\t\tlast_month += 1\n",
    "\t\tlast_month = month\n",
    "\t\tadj_matrices.append(adj_matrix)\n",
    "\n",
    "\tadj_matrices = np.array(adj_matrices)\n",
    "\treturn adj_matrices"
   ]
  },
  {
   "cell_type": "markdown",
   "metadata": {
    "id": "NZzSTU8u3aHZ"
   },
   "source": [
    "### Cumulative Adj Matrix with Decay"
   ]
  },
  {
   "cell_type": "code",
   "execution_count": 60,
   "metadata": {
    "id": "v85uhgxCOSiR"
   },
   "outputs": [],
   "source": [
    "# where halflife is halflife in months\n",
    "# where amount is months passed\n",
    "def decay(amount, half_life):\n",
    "\t\tk = (math.log(0.5))/half_life\n",
    "\t\tassert k < 0\n",
    "\t\td = np.exp(amount * k)\n",
    "\t\tassert d > 0.0 and d < 1.0\n",
    "\t\treturn d\n",
    "\n",
    "\n",
    "def create_cumulative_adj_matrix(adj_matrices, half_life):\n",
    "\t\tcum_adj_matrices = np.zeros_like(adj_matrices)\n",
    "\n",
    "\t\tfor i in range(len(adj_matrices)):\n",
    "\t\t\t\tfor j in range(0, i):\n",
    "\t\t\t\t\t\t# adding decayed numerator\n",
    "\t\t\t\t\t\tcum_adj_matrices[i, :, :, 0] += adj_matrices[j, :, :, 0] * decay(i - j, half_life)\n",
    "\t\t\t\t\t\t# adding denominator\n",
    "\t\t\t\t\t\tcum_adj_matrices[i, :, :, 1] += adj_matrices[j, :, :, 1] * decay(i - j, half_life)\n",
    "\n",
    "\t\t\t\tcum_adj_matrices[i] += adj_matrices[i]\n",
    "\t\treturn (cum_adj_matrices)"
   ]
  },
  {
   "cell_type": "markdown",
   "metadata": {
    "id": "efxqxzdLBiEf"
   },
   "source": [
    "### Party Influence"
   ]
  },
  {
   "cell_type": "code",
   "execution_count": 61,
   "metadata": {
    "id": "OQTXIQgzCpCA"
   },
   "outputs": [],
   "source": [
    "def create_party_inf_matrix(cum_adj_matrices, chamber):\n",
    "\tif chamber == \"house\":\n",
    "\t\tinterest_bills = hr_bills\n",
    "\t\tcaresponsors = house_sponsors\n",
    "\telse:\n",
    "\t\tinterest_bills = senate_bills\n",
    "\t\tcaresponsors = senate_sponsors\n",
    "\n",
    "\tunique_sponsors = caresponsors[\"icpsr_id\"].unique()\n",
    "\n",
    "\ticpsr_to_index, index_to_icpsr = icpsr_index_dict(unique_sponsors)\n",
    "\n",
    "\tid_to_party = id_party_dict(chamber, icpsr_to_index)\n",
    "\n",
    "\tparty_influence = np.zeros((len(cum_adj_matrices), len(unique_sponsors), 2))\n",
    "\n",
    "\tfor month_index in range(len(cum_adj_matrices)):\n",
    "\t\tadj_month = cum_adj_matrices[month_index]\n",
    "\t\tfor cosponsor in range(len(adj_month)):\n",
    "\t\t\tdem_num = 0\n",
    "\t\t\tdem_den = 0\n",
    "\t\t\trep_num = 0\n",
    "\t\t\trep_den = 0\n",
    "\t\t\tfor i in range(len(adj_month[cosponsor])):\n",
    "\t\t\t\t# if the cosponsor they are attached to is a dem\n",
    "\t\t\t\tif id_to_party.get(index_to_icpsr.get(i)) == \"Dem\":\n",
    "\t\t\t\t\tdem_num += adj_month[cosponsor, i, 0]\n",
    "\t\t\t\t\tdem_den += adj_month[cosponsor, i, 1]\n",
    "\t\t\t\telse:\n",
    "\t\t\t\t\trep_num += adj_month[cosponsor, i, 0]\n",
    "\t\t\t\t\trep_den += adj_month[cosponsor, i, 1]\n",
    "\t\t\t# sum nums, dems separately, then divide\n",
    "\t\t\tif dem_den !=0:\n",
    "\t\t\t\tparty_influence[month_index, cosponsor, 0] = (dem_num/dem_den)\n",
    "\t\t\telif dem_den == 0:\n",
    "\t\t\t\tparty_influence[month_index, cosponsor, 0] = 0\n",
    "\t\t\tif rep_den !=0:\n",
    "\t\t\t\tparty_influence[month_index, cosponsor, 1] = (rep_num/rep_den)\n",
    "\t\t\telif rep_den == 0:\n",
    "\t\t\t\tparty_influence[month_index, cosponsor, 1] = 0\n",
    "\n",
    "\t# normalize by # of people in each party in each congress\n",
    "\tunique_congress = interest_bills[\"congress\"].unique()\n",
    "\tnum_congress=len(unique_congress)\n",
    "\tcongress_to_party_amt = congress_party_dict(unique_congress, \"house\")\n",
    "\tordered_congress = sorted(congress_to_party_amt.keys())\n",
    "\n",
    "\tfor month_index in range(len(party_influence)):\n",
    "\n",
    "\t\tdiv = congress_to_party_amt[ordered_congress[month_index//24]]\n",
    "\t\tparty_influence[month_index] = party_influence[month_index]/div\n",
    "\n",
    "\treturn(party_influence)"
   ]
  },
  {
   "cell_type": "markdown",
   "metadata": {
    "id": "rQYHe0NsFHLK"
   },
   "source": [
    "## Influence by Bill Level"
   ]
  },
  {
   "cell_type": "code",
   "execution_count": 62,
   "metadata": {
    "id": "Nvoq9HxJG9yM"
   },
   "outputs": [],
   "source": [
    "def influence_by_bill(start_date, influence_matrix, chamber, carelist, normalize_cosponsor=True):\n",
    "\tmat_list = []\n",
    "\n",
    "\tif chamber == \"house\":\n",
    "\t\tinterest_bills = hr_bills\n",
    "\t\tcaresponsors = house_sponsors\n",
    "\telse:\n",
    "\t\tinterest_bills = senate_bills\n",
    "\t\tcaresponsors = senate_sponsors\n",
    "\n",
    "\tunique_sponsors = caresponsors[\"icpsr_id\"].unique()\n",
    "\ticpsr_to_index, index_to_icpsr = icpsr_index_dict(unique_sponsors)\n",
    "\n",
    "\tstart = pd.Period(start_date)\n",
    "\n",
    "\t# for every bill in the bill list\n",
    "\tfor bill_index in range(len(interest_bills)):\n",
    "\t\tif (bill_index%1000 == 0): print(bill_index)\n",
    "\n",
    "\t\tbill_id = interest_bills[\"bill_id\"].iloc[bill_index]\n",
    "\n",
    "\t\t# keep track of bill status\n",
    "\t\tpassed = 1 if (interest_bills[interest_bills['bill_id'] == bill_id]['status'].isin(carelist)).item() else 0\n",
    "\n",
    "\t\t# the month we care about influence for\n",
    "\t\tintro_month = interest_bills[\"introduced_at\"].dt.to_period(\"M\").iloc[bill_index]\n",
    "\t\tmonth_index = (intro_month - start).n\n",
    "\n",
    "\t\tif month_index >= influence_matrix.shape[0]:\n",
    "\t\t\tcontinue\n",
    "\n",
    "\t\tinf_score = 0\n",
    "\t\tbill_id = interest_bills[\"bill_id\"].iloc[bill_index]\n",
    "\n",
    "\t\tcosponsor_list = caresponsors[caresponsors[\"bill_id\"] == bill_id][\"icpsr_id\"].unique()\n",
    "\t\tcosponsor_num = len(cosponsor_list)\n",
    "\n",
    "\t\tfor cosponsor in cosponsor_list:\n",
    "\t\t\tif np.isnan(cosponsor) or np.isnan(icpsr_to_index[cosponsor]):\n",
    "\t\t\t\tcontinue\n",
    "\t\t\tcosponsor_index = icpsr_to_index[cosponsor]\n",
    "\t\t\tinf_score += influence_matrix[month_index, cosponsor_index]\n",
    "\t\tif normalize_cosponsor:\n",
    "\t\t\tinf_score = inf_score/cosponsor_num\n",
    "\n",
    "\t\tmat_list.append([bill_id, inf_score, intro_month, passed])\n",
    "\n",
    "\tmat_bill_inf = np.array(mat_list)\n",
    "\tmat_bill_inf=pd.DataFrame(mat_bill_inf, columns=[\"Bill_ID\", \"Influence_Score\", \"Time\", \"Passed\"])\n",
    "\treturn(mat_bill_inf)"
   ]
  },
  {
   "cell_type": "code",
   "execution_count": 63,
   "metadata": {
    "id": "ECq_ytKi6qs1"
   },
   "outputs": [],
   "source": [
    "def max_influence_by_bill(start_date, influence_matrix, chamber, carelist):\n",
    "\tmat_list = []\n",
    "\n",
    "\tif chamber == \"house\":\n",
    "\t\tinterest_bills = hr_bills\n",
    "\t\tcaresponsors = house_sponsors\n",
    "\telse:\n",
    "\t\tinterest_bills = senate_bills\n",
    "\t\tcaresponsors = senate_sponsors\n",
    "\n",
    "\tunique_sponsors = caresponsors[\"icpsr_id\"].unique()\n",
    "\ticpsr_to_index, index_to_icpsr = icpsr_index_dict(unique_sponsors)\n",
    "\n",
    "\tstart = pd.Period(start_date)\n",
    "\n",
    "\t# for every bill in the bill list\n",
    "\tfor bill_index in range(len(interest_bills)):\n",
    "\t\tif (bill_index%1000 == 0): print(bill_index)\n",
    "\n",
    "\t\tbill_id = interest_bills[\"bill_id\"].iloc[bill_index]\n",
    "\n",
    "\t\t# keep track of bill status\n",
    "\t\tpassed = 1 if (interest_bills[interest_bills['bill_id'] == bill_id]['status'].isin(carelist)).item() else 0\n",
    "\n",
    "\t\t# the month we care about influence for\n",
    "\t\tintro_month = interest_bills[\"introduced_at\"].dt.to_period(\"M\").iloc[bill_index]\n",
    "\t\tmonth_index = (intro_month - start).n\n",
    "\n",
    "\t\tif month_index >= influence_matrix.shape[0]:\n",
    "\t\t\tcontinue\n",
    "\n",
    "\t\tinf_score = 0\n",
    "\t\tbill_id = interest_bills[\"bill_id\"].iloc[bill_index]\n",
    "\n",
    "\t\tcosponsor_list = caresponsors[caresponsors[\"bill_id\"] == bill_id][\"icpsr_id\"].unique()\n",
    "\t\tcosponsor_num = len(cosponsor_list)\n",
    "\n",
    "\t\tfor cosponsor in cosponsor_list:\n",
    "\t\t\tif np.isnan(cosponsor) or np.isnan(icpsr_to_index[cosponsor]):\n",
    "\t\t\t\tcontinue\n",
    "\t\t\tcosponsor_index = icpsr_to_index[cosponsor]\n",
    "\t\t\tif influence_matrix[month_index, cosponsor_index] > inf_score:\n",
    "\t\t\t\tinf_score = influence_matrix[month_index, cosponsor_index]\n",
    "\n",
    "\t\tmat_list.append([bill_id, inf_score, intro_month, passed])\n",
    "\n",
    "\tmat_bill_inf = np.array(mat_list)\n",
    "\tmat_bill_inf=pd.DataFrame(mat_bill_inf, columns=[\"Bill_ID\", \"Influence_Score\", \"Time\", \"Passed\"])\n",
    "\treturn(mat_bill_inf)"
   ]
  },
  {
   "cell_type": "code",
   "execution_count": 64,
   "metadata": {
    "id": "XX7jRIcSg9pY"
   },
   "outputs": [],
   "source": [
    "def plot_influence(fail_what, bill_inf_df, normalized=True):\n",
    "\tfail = bill_inf_df[bill_inf_df[\"Passed\"] != 1]\n",
    "\tpassed = bill_inf_df[bill_inf_df[\"Passed\"] == 1]\n",
    "\n",
    "\tpassed_plot = passed.groupby([\"Time\"])[\"Influence_Score\"].agg([\"mean\", \"std\", \"count\"]).reset_index()\n",
    "\tpassed_plot[\"Time\"] = passed_plot[\"Time\"].dt.strftime('%Y-%m')\n",
    "\tpassed_plot['ci'] = 1.645 * passed_plot['std'] / np.sqrt(passed_plot['count'])\n",
    "\tpassed_plot['ci_lower'] = passed_plot['mean'] - passed_plot['ci']\n",
    "\tpassed_plot['ci_upper'] = passed_plot['mean'] + passed_plot['ci']\n",
    "\n",
    "\tprint(passed_plot.head())\n",
    "\n",
    "\tfailed_plot = fail.groupby([\"Time\"])[\"Influence_Score\"].agg([\"mean\", \"std\", \"count\"]).reset_index()\n",
    "\tfailed_plot[\"Time\"] = failed_plot[\"Time\"].dt.strftime('%Y-%m')\n",
    "\tfailed_plot['ci'] = 1.645 * failed_plot['std'] / np.sqrt(failed_plot['count'])\n",
    "\tfailed_plot['ci_lower'] = failed_plot['mean'] - failed_plot['ci']\n",
    "\tfailed_plot['ci_upper'] = failed_plot['mean'] + failed_plot['ci']\n",
    "\n",
    "\tprint(failed_plot.head())\n",
    "\n",
    "\tplt.figure(figsize=(12,6))\n",
    "\n",
    "\tpassed_plot[\"mean\"].plot(color=\"green\")\n",
    "\tfailed_plot[\"mean\"].plot(color=\"red\")\n",
    "\n",
    "\tif normalized==True:\n",
    "\t\tplt.title(\"Average Influence Score for Bills which Fail \" + str(fail_what) + \" over Time (Normalized by Cosponsor)\")\n",
    "\telse:\n",
    "\t\tplt.title(\"Average Influence Score for Bills which Fail \" + str(fail_what) + \" over Time (Not Normalized by Cosponsor)\")\n",
    "\tplt.ylabel(\"Influence Score\")\n",
    "\tplt.xticks(rotation=90)\n",
    "\n",
    "\tplt.legend(labels=[\"Passed \" + str(fail_what), \"Failed \" + str(fail_what)])\n",
    "\tplt.show()"
   ]
  },
  {
   "cell_type": "markdown",
   "metadata": {
    "id": "HQHELRybOPPT"
   },
   "source": [
    "## Centrality by Bill"
   ]
  },
  {
   "cell_type": "code",
   "execution_count": 65,
   "metadata": {
    "id": "O8lVWzGFL3Vc"
   },
   "outputs": [],
   "source": [
    "def build_closeness_centrality_scores(adj_matrix):\n",
    "\tdataMatrixFull = np.zeros((adj_matrix.shape[0], adj_matrix.shape[1]))\n",
    "\tfor i in range(adj_matrix.shape[0]):\n",
    "\t\tG = nx.from_numpy_array(adj_matrix[i])\n",
    "\t\tedges_to_remove = [(u, v) for u, v, w in G.edges(data=True) if np.isnan(w['weight'])]\n",
    "\t\tG.remove_edges_from(edges_to_remove)\n",
    "\t\tlargest_component = max(nx.connected_components(G), key=len)\n",
    "\t\tsubgraph = G.subgraph(largest_component)\n",
    "\t\tcentrality = nx.closeness_centrality(subgraph)\n",
    "\t\torderedNames = list(range(adj_matrix.shape[1]))\n",
    "\t\tdataMatrix = np.array([(centrality[j] if j in centrality else 0) for j in orderedNames])\n",
    "\t\tdataMatrixFull[i, :] = dataMatrix\n",
    "\treturn(dataMatrixFull)"
   ]
  },
  {
   "cell_type": "code",
   "execution_count": 66,
   "metadata": {
    "id": "xSdCdNszVC8n"
   },
   "outputs": [],
   "source": [
    "def build_ev_centrality_scores(adj_matrix):\n",
    "\tdataMatrixFull = np.zeros((adj_matrix.shape[0], adj_matrix.shape[1]))\n",
    "\tfor i in range(adj_matrix.shape[0]):\n",
    "\t\tG = nx.from_numpy_array(adj_matrix[i])\n",
    "\t\tedges_to_remove = [(u, v) for u, v, w in G.edges(data=True) if np.isnan(w['weight'])]\n",
    "\t\tG.remove_edges_from(edges_to_remove)\n",
    "\t\tlargest_component = max(nx.connected_components(G), key=len)\n",
    "\t\tsubgraph = G.subgraph(largest_component)\n",
    "\t\t# Calculate eigenvector centrality for the largest connected component\n",
    "\t\tcentrality = nx.eigenvector_centrality(subgraph)\n",
    "\t\torderedNames = list(range(adj_matrix.shape[1]))\n",
    "\t\tdataMatrix = np.array([(centrality[j] if j in centrality else 0) for j in orderedNames])\n",
    "\t\tdataMatrixFull[i, :] = dataMatrix\n",
    "\treturn(dataMatrixFull)"
   ]
  },
  {
   "cell_type": "code",
   "execution_count": 67,
   "metadata": {
    "id": "bzBXvTFwCXoS"
   },
   "outputs": [],
   "source": [
    "def build_dg_centrality_scores(adj_matrix):\n",
    "\tdataMatrixFull1 = np.zeros((adj_matrix.shape[0], adj_matrix.shape[1]))\n",
    "\tfor i in range(adj_matrix.shape[0]):\n",
    "\t\tG = nx.from_numpy_array(adj_matrix[i])\n",
    "\t\tedges_to_remove = [(u, v) for u, v, w in G.edges(data=True) if np.isnan(w['weight'])]\n",
    "\t\tG.remove_edges_from(edges_to_remove)\n",
    "\t\tlargest_component = max(nx.connected_components(G), key=len)\n",
    "\t\tsubgraph = G.subgraph(largest_component)\n",
    "\t\t# Calculate degree centrality for the largest connected component\n",
    "\t\tcentrality = nx.degree_centrality(subgraph)\n",
    "\t\torderedNames = list(range(adj_matrix.shape[1]))\n",
    "\t\tdataMatrix = np.array([(centrality[j] if j in centrality else 0) for j in orderedNames])\n",
    "\t\tdataMatrixFull1[i, :] = dataMatrix\n",
    "\treturn(dataMatrixFull1)"
   ]
  },
  {
   "cell_type": "code",
   "execution_count": 68,
   "metadata": {
    "id": "B9H2Q14oPmjX"
   },
   "outputs": [],
   "source": [
    "def build_max_centrality_df(congress, start_date, dataMatrix, chamber, carelist):\n",
    "\tif chamber == \"house\":\n",
    "\t\tinterest_bills = hr_bills[hr_bills[\"congress\"]==congress]\n",
    "\t\tcaresponsors = house_sponsors[house_sponsors[\"congress\"]==congress]\n",
    "\telse:\n",
    "\t\tinterest_bills = senate_bills[senate_bills[\"congress\"]==congress]\n",
    "\t\tcaresponsors = senate_sponsors[senate_sponsors[\"congress\"]==congress]\n",
    "\n",
    "\tunique_sponsors = caresponsors[\"icpsr_id\"].unique()\n",
    "\ticpsr_to_index, index_to_icpsr = icpsr_index_dict(unique_sponsors)\n",
    "\n",
    "\tmat_list = []\n",
    "\t# for every bill (passed or not passed)\n",
    "\tstart = pd.Period(start_date)\n",
    "\n",
    "\n",
    "\tfor bill_index in range(len(interest_bills)):\n",
    "\t\tif (bill_index%1000 == 0): print(bill_index)\n",
    "\n",
    "\t\tbill_id = interest_bills[\"bill_id\"].iloc[bill_index]\n",
    "\n",
    "\t\t# keep track of bill status\n",
    "\t\tpassed = 1 if (interest_bills[interest_bills['bill_id'] == bill_id]['status'].isin(carelist)).item() else 0\n",
    "\n",
    "\t\t# the month we care about influence for\n",
    "\t\tintro_month = interest_bills[\"introduced_at\"].dt.to_period(\"M\").iloc[bill_index]\n",
    "\t\tmonth_index = (intro_month - start).n\n",
    "\n",
    "\t\tif month_index >= dataMatrix.shape[0]:\n",
    "\t\t\tcontinue\n",
    "\n",
    "\t\tcentrality_score = 0\n",
    "\t\tbill_id = interest_bills[\"bill_id\"].iloc[bill_index]\n",
    "\n",
    "\t\tcosponsor_list = caresponsors[caresponsors[\"bill_id\"] == bill_id][\"icpsr_id\"].unique()\n",
    "\t\tcosponsor_num = len(cosponsor_list)\n",
    "\n",
    "\t\tfor cosponsor in cosponsor_list:\n",
    "\t\t\tif np.isnan(cosponsor) or np.isnan(icpsr_to_index[cosponsor]):\n",
    "\t\t\t\tcontinue\n",
    "\t\t\tcosponsor_index = icpsr_to_index[cosponsor]\n",
    "\t\t\tif cosponsor_index >= dataMatrix.shape[1]:\n",
    "\t\t\t\tcontinue\n",
    "\t\t\tif dataMatrix[month_index, cosponsor_index] > centrality_score:\n",
    "\t\t\t\tcentrality_score = dataMatrix[month_index, cosponsor_index]\n",
    "\n",
    "\t\tmat_list.append([bill_id, centrality_score, intro_month, passed])\n",
    "\n",
    "\tmat_bill_inf = np.array(mat_list)\n",
    "\tcentrality_df = pd.DataFrame(mat_bill_inf, columns=[\"Bill_ID\", \"Max_Centrality\", \"Time\", \"Passed\"])\n",
    "\treturn(centrality_df)"
   ]
  },
  {
   "cell_type": "code",
   "execution_count": 69,
   "metadata": {
    "id": "TVwvvLM2W2SM"
   },
   "outputs": [],
   "source": [
    "def build_avg_centrality_df(congress, start_date, dataMatrix, chamber, carelist):\n",
    "\tif chamber == \"house\":\n",
    "\t\tinterest_bills = hr_bills[hr_bills[\"congress\"]==congress]\n",
    "\t\tcaresponsors = house_sponsors[house_sponsors[\"congress\"]==congress]\n",
    "\telse:\n",
    "\t\tinterest_bills = senate_bills[senate_bills[\"congress\"]==congress]\n",
    "\t\tcaresponsors = senate_sponsors[senate_sponsors[\"congress\"]==congress]\n",
    "\n",
    "\tunique_sponsors = caresponsors[\"icpsr_id\"].unique()\n",
    "\ticpsr_to_index, index_to_icpsr = icpsr_index_dict(unique_sponsors)\n",
    "\n",
    "\tmat_list = []\n",
    "\t# for every bill (passed or not passed)\n",
    "\tstart = pd.Period(start_date)\n",
    "\n",
    "\n",
    "\tfor bill_index in range(len(interest_bills)):\n",
    "\t\tif (bill_index%1000 == 0): print(bill_index)\n",
    "\n",
    "\t\tbill_id = interest_bills[\"bill_id\"].iloc[bill_index]\n",
    "\n",
    "\t\t# keep track of bill status\n",
    "\t\tpassed = 1 if (interest_bills[interest_bills['bill_id'] == bill_id]['status'].isin(carelist)).item() else 0\n",
    "\n",
    "\t\t# the month we care about influence for\n",
    "\t\tintro_month = interest_bills[\"introduced_at\"].dt.to_period(\"M\").iloc[bill_index]\n",
    "\t\tmonth_index = (intro_month - start).n\n",
    "\n",
    "\t\tif month_index >= dataMatrix.shape[0]:\n",
    "\t\t\tcontinue\n",
    "\n",
    "\t\tcentrality_score = 0\n",
    "\t\tbill_id = interest_bills[\"bill_id\"].iloc[bill_index]\n",
    "\n",
    "\t\tcosponsor_list = caresponsors[caresponsors[\"bill_id\"] == bill_id][\"icpsr_id\"].unique()\n",
    "\t\tcosponsor_num = len(cosponsor_list)\n",
    "\n",
    "\t\tfor cosponsor in cosponsor_list:\n",
    "\t\t\tif np.isnan(cosponsor) or np.isnan(icpsr_to_index[cosponsor]):\n",
    "\t\t\t\tcontinue\n",
    "\t\t\tcosponsor_index = icpsr_to_index[cosponsor]\n",
    "\t\t\tif cosponsor_index >= dataMatrix.shape[1]:\n",
    "\t\t\t\tcontinue\n",
    "\t\t\tcentrality_score += dataMatrix[month_index, cosponsor_index]\n",
    "\n",
    "\t\tcentrality_score /= cosponsor_num\n",
    "\n",
    "\n",
    "\t\tmat_list.append([bill_id, centrality_score, intro_month, passed])\n",
    "\n",
    "\tmat_bill_inf = np.array(mat_list)\n",
    "\tcentrality_df = pd.DataFrame(mat_bill_inf, columns=[\"Bill_ID\", \"Avg_Centrality\", \"Time\", \"Passed\"])\n",
    "\treturn(centrality_df)"
   ]
  },
  {
   "cell_type": "code",
   "execution_count": 70,
   "metadata": {
    "id": "v8AsZdU_YAaC"
   },
   "outputs": [],
   "source": [
    "warnings.filterwarnings(\"ignore\", category=UserWarning, module=\"matplotlib\")"
   ]
  },
  {
   "cell_type": "code",
   "execution_count": 129,
   "metadata": {
    "id": "ixiLl2HbjuRV"
   },
   "outputs": [],
   "source": [
    "def plot_avg_centrality(df,centralitytype,centralitytitle,ax1ylim=None):\n",
    "\tfail = df[df[\"Passed\"] != 1]\n",
    "\tpassed = df[df[\"Passed\"] == 1]\n",
    "\n",
    "\tpassed_plot = passed.copy()\n",
    "\tpassed_plot[\"Time\"] = passed_plot[\"Time\"].dt.to_timestamp()\t# Convert PeriodDtype to DatetimeIndex\n",
    "\n",
    "\tpassed_plot = passed_plot.set_index(\"Time\")\n",
    "\tpassed_plot = passed_plot.resample(\"4M\")[\"Avg_Centrality\"].agg([\"mean\", \"std\", \"count\"]).reset_index()\n",
    "\tpassed_plot[\"Time\"] = passed_plot[\"Time\"].dt.strftime('%Y-%m')\n",
    "\tpassed_plot[\"sqrt_count\"] = np.sqrt(passed_plot[\"count\"].to_numpy())\n",
    "\n",
    "\n",
    "\tfailed_plot = fail.copy()\n",
    "\tfailed_plot[\"Time\"] = failed_plot[\"Time\"].dt.to_timestamp()\t# Convert PeriodDtype to DatetimeIndex\n",
    "\n",
    "\tfailed_plot = failed_plot.set_index(\"Time\")\n",
    "\tfailed_plot = failed_plot.resample(\"4M\")[\"Avg_Centrality\"].agg([\"mean\", \"std\", \"count\"]).reset_index()\n",
    "\tfailed_plot[\"sqrt_count\"] = np.sqrt(failed_plot[\"count\"].to_numpy())\n",
    "\tfailed_plot[\"Time\"] = failed_plot[\"Time\"].dt.strftime('%Y-%m')\n",
    "\n",
    "\t# Calculate the percent difference between passed and failed\n",
    "\tmerged_plot = pd.merge(passed_plot, failed_plot, on=\"Time\", suffixes=(\"_passed\", \"_failed\"))\n",
    "\tmerged_plot[\"Percent_Difference\"] = ((merged_plot[\"mean_passed\"] - merged_plot[\"mean_failed\"]) / merged_plot[\"mean_failed\"])\n",
    "\n",
    "\t# Create a subplot with two columns (for side-by-side plots)\n",
    "\tfig, (ax1, ax2) = plt.subplots(1, 2, figsize=(12, 6), gridspec_kw={'width_ratios': [1, 0.4]})\n",
    "\tplt.subplots_adjust(wspace=0.3)\n",
    "\n",
    "\t# Plot the time series on the right (ax2)\n",
    "\tax1.scatter(failed_plot[\"Time\"], failed_plot[\"mean\"], s=18)\n",
    "\tax1.errorbar(x=failed_plot[\"Time\"], y=failed_plot[\"mean\"], yerr=(failed_plot[\"std\"]/failed_plot[\"sqrt_count\"]), fmt=' ')\n",
    "\tax1.scatter(passed_plot[\"Time\"], passed_plot[\"mean\"], s=18, color=\"orange\", marker=\"x\")\n",
    "\tax1.errorbar(x=passed_plot[\"Time\"], y=passed_plot[\"mean\"], yerr=(passed_plot[\"std\"]/passed_plot[\"sqrt_count\"]), fmt=' ')\n",
    "\tax1.set_title(str(centralitytitle), fontsize=12)\n",
    "\tax1.set_ylabel(str(centralitytype), fontsize=12)\n",
    "\tax1.legend([\"Failed House\", \"Passed House\"], loc=\"lower right\", fontsize=12)\n",
    "\n",
    "\t# Plot the histogram on the left (ax1)\n",
    "\tax2.hist(merged_plot[\"Percent_Difference\"], bins=10, edgecolor='k', color=\"darkgreen\",alpha=0.6)\n",
    "\tax2.set_title(\"Relative-Difference Distribution\", fontsize=12)\n",
    "\tax2.set_ylabel(\"Count\", fontsize=12)\n",
    "\n",
    "\t# Set the tick labels for ax1 (left subplot)\n",
    "\tax1.set_xticklabels(ax1.get_xticklabels(), rotation=90, fontsize=12)\t# Set x-axis tick labels with rotation and fontsize\n",
    "\tif ax1ylim != None: ax1.set_ylim(ax1ylim)\n",
    "\tax1.yaxis.set_major_locator(FixedLocator(ax1.get_yticks()))\n",
    "\tax1.set_yticklabels(ax1.get_yticklabels(), fontsize=12)\t# Set y-axis tick labels with fontsize\n",
    "\n",
    "\t# Set the tick labels for ax2 (right subplot)\n",
    "\tax2.set_xlim([-0.07,0.07])\n",
    "\tax2.set_ylim([0,12])\n",
    "\tax2.yaxis.set_major_locator(FixedLocator(ax2.get_yticks()))\n",
    "\tax2.set_yticklabels(ax2.get_yticklabels(), fontsize=12)\t# Set y-axis tick labels with fontsize\n",
    "\tax2.yaxis.set_major_locator(plt.MaxNLocator(integer=True, prune='both'))\n",
    "\tax2.tick_params(axis='both', which='major', labelsize=12)\n",
    "\n",
    "\t# Adjust the layout to prevent overlapping\n",
    "\t# plt.tight_layout()\n",
    "\n",
    "\tplt.show()\n",
    "\treturn merged_plot[[\"Time\", \"Percent_Difference\"]]"
   ]
  },
  {
   "cell_type": "code",
   "execution_count": 130,
   "metadata": {
    "id": "_A8K8TwnlCfr"
   },
   "outputs": [],
   "source": [
    "def plot_max_centrality(df,centralitytype,centralitytitle,ax1ylim=None):\n",
    "\tfail = df[df[\"Passed\"] != 1]\n",
    "\tpassed = df[df[\"Passed\"] == 1]\n",
    "\n",
    "\tpassed_plot = passed.copy()\n",
    "\tpassed_plot[\"Time\"] = passed_plot[\"Time\"].dt.to_timestamp()\t# Convert PeriodDtype to DatetimeIndex\n",
    "\n",
    "\tpassed_plot = passed_plot.set_index(\"Time\")\n",
    "\tpassed_plot = passed_plot.resample(\"4M\")[\"Max_Centrality\"].agg([\"mean\", \"std\", \"count\"]).reset_index()\n",
    "\tpassed_plot[\"Time\"] = passed_plot[\"Time\"].dt.strftime('%Y-%m')\n",
    "\tpassed_plot[\"sqrt_count\"] = np.sqrt(passed_plot[\"count\"].to_numpy())\n",
    "\n",
    "\n",
    "\tfailed_plot = fail.copy()\n",
    "\tfailed_plot[\"Time\"] = failed_plot[\"Time\"].dt.to_timestamp()\t# Convert PeriodDtype to DatetimeIndex\n",
    "\n",
    "\tfailed_plot = failed_plot.set_index(\"Time\")\n",
    "\tfailed_plot = failed_plot.resample(\"4M\")[\"Max_Centrality\"].agg([\"mean\", \"std\", \"count\"]).reset_index()\n",
    "\tfailed_plot[\"sqrt_count\"] = np.sqrt(failed_plot[\"count\"].to_numpy())\n",
    "\tfailed_plot[\"Time\"] = failed_plot[\"Time\"].dt.strftime('%Y-%m')\n",
    "\n",
    "\t# Calculate the percent difference between passed and failed\n",
    "\tmerged_plot = pd.merge(passed_plot, failed_plot, on=\"Time\", suffixes=(\"_passed\", \"_failed\"))\n",
    "\tmerged_plot[\"Percent_Difference\"] = ((merged_plot[\"mean_passed\"] - merged_plot[\"mean_failed\"]) / merged_plot[\"mean_failed\"])\n",
    "\n",
    "\t# Create a subplot with two columns (for side-by-side plots)\n",
    "\tfig, (ax1, ax2) = plt.subplots(1, 2, figsize=(12, 6), gridspec_kw={'width_ratios': [1, 0.4]})\n",
    "\tplt.subplots_adjust(wspace=0.3)\n",
    "\n",
    "\t# Plot the time series on the right (ax2)\n",
    "\tax1.scatter(failed_plot[\"Time\"], failed_plot[\"mean\"], s=18)\n",
    "\tax1.errorbar(x=failed_plot[\"Time\"], y=failed_plot[\"mean\"], yerr=(failed_plot[\"std\"]/failed_plot[\"sqrt_count\"]), fmt=' ')\n",
    "\tax1.scatter(passed_plot[\"Time\"], passed_plot[\"mean\"], s=18, color=\"orange\", marker=\"x\")\n",
    "\tax1.errorbar(x=passed_plot[\"Time\"], y=passed_plot[\"mean\"], yerr=(passed_plot[\"std\"]/passed_plot[\"sqrt_count\"]), fmt=' ')\n",
    "\tax1.set_title(str(centralitytitle), fontsize=12)\n",
    "\tax1.set_ylabel(str(centralitytype), fontsize=12)\n",
    "\tax1.legend([\"Failed House\", \"Passed House\"], loc=\"lower right\", fontsize=12)\n",
    "\n",
    "\t# Plot the histogram on the left (ax1)\n",
    "\tax2.hist(merged_plot[\"Percent_Difference\"], bins=10, edgecolor='k', color=\"darkgreen\",alpha=0.6)\n",
    "\tax2.set_title(\"Relative-Difference Distribution\", fontsize=12)\n",
    "\tax2.set_ylabel(\"Count\", fontsize=12)\n",
    "\n",
    "\t# Set the tick labels for ax1 (left subplot)\n",
    "\tax1.set_xticklabels(ax1.get_xticklabels(), rotation=90, fontsize=12)\t# Set x-axis tick labels with rotation and fontsize\n",
    "\tif ax1ylim != None: ax1.set_ylim(ax1ylim)\n",
    "\tax1.yaxis.set_major_locator(FixedLocator(ax1.get_yticks()))\n",
    "\tax1.set_yticklabels(ax1.get_yticklabels(), fontsize=12)\t# Set y-axis tick labels with fontsize\n",
    "\n",
    "\t# Set the tick labels for ax2 (right subplot)\n",
    "\tax2.set_xlim([-0.07,0.07])\n",
    "\tax2.set_ylim([0,12])\n",
    "\tax2.yaxis.set_major_locator(FixedLocator(ax2.get_yticks()))\n",
    "\tax2.set_yticklabels(ax2.get_yticklabels(), fontsize=12)\t# Set y-axis tick labels with fontsize\n",
    "\tax2.yaxis.set_major_locator(plt.MaxNLocator(integer=True, prune='both'))\n",
    "\tax2.tick_params(axis='both', which='major', labelsize=12)\n",
    "\n",
    "\t# Adjust the layout to prevent overlapping\n",
    "\t# plt.tight_layout()\n",
    "\n",
    "\tplt.show()\n",
    "\treturn merged_plot[[\"Time\", \"Percent_Difference\"]]"
   ]
  },
  {
   "cell_type": "code",
   "execution_count": 131,
   "metadata": {},
   "outputs": [],
   "source": [
    "house_congress_to_index_dict = congress_people_dict(\"house\")\n",
    "\n",
    "with open('./pickles/HouseCongressToIndexDict.pickle', 'wb') as f:\n",
    "\tpickle.dump(house_congress_to_index_dict, f)"
   ]
  },
  {
   "cell_type": "code",
   "execution_count": 132,
   "metadata": {
    "id": "IJ1N4g1TyeZ5"
   },
   "outputs": [],
   "source": [
    "def only_current(adj_matrix, chamber):\n",
    "\tif chamber == \"house\":\n",
    "\t\tdictionary=house_congress_to_index_dict\n",
    "\n",
    "\tcafs_copy = adj_matrix.copy()\n",
    "\tsorted_cong = sorted(list(dictionary.keys()))\n",
    "\tall = np.array(range(cafs_copy.shape[1]))\n",
    "\tout = []\n",
    "\tfor i in range(len(sorted_cong)):\n",
    "\t\tmonth_low, month_hi = 24*i, 24*i+24\n",
    "\t\ttemp = cafs_copy[month_low:month_hi]\n",
    "\n",
    "\t\tinds = np.array(dictionary[sorted_cong[i]])\n",
    "\t\tremove = np.setdiff1d(all, inds)\n",
    "\n",
    "\t\tprint(\"All:\", len(all), \"In Congress:\", len(inds), \"Not In Congress:\", len(remove))\n",
    "\n",
    "\t\ttemp = np.delete(temp, remove, 2)\n",
    "\t\ttemp = np.delete(temp, remove, 1)\n",
    "\n",
    "\t\tout.append(temp)\n",
    "\treturn(out)"
   ]
  },
  {
   "cell_type": "code",
   "execution_count": 133,
   "metadata": {
    "id": "9PXjLXhWHzUX"
   },
   "outputs": [],
   "source": [
    "def connected_comp_count(congress_list):\n",
    "\tfor i in congress_list:\n",
    "\t\tmonth=0\n",
    "\t\tnode_count = list()\n",
    "\t\tfor j in range(23):\n",
    "\t\t\tmonth +=1\n",
    "\t\t\tG=nx.from_numpy_array(i[j])\n",
    "\t\t\t# Identify singular (isolated) nodes\n",
    "\t\t\tsingular_nodes = [node for node in G.nodes() if G.degree[node] == 0]\n",
    "\t\t\t# Remove singular nodes from the graph\n",
    "\t\t\tG.remove_nodes_from(singular_nodes)\n",
    "\t\t\t# Count the number of connected components\n",
    "\t\t\tnode_num=nx.number_connected_components(G)\n",
    "\t\t\tif node_num>1:\n",
    "\t\t\t\tnode_count.append([month, node_num])\n",
    "\t\tprint(node_count)"
   ]
  },
  {
   "cell_type": "markdown",
   "metadata": {
    "id": "nWXh4pkd1Iok"
   },
   "source": [
    "## Connected Components"
   ]
  },
  {
   "cell_type": "markdown",
   "metadata": {
    "id": "Zj_jmC1uyHzT"
   },
   "source": [
    "**Fail Chamber**: One component"
   ]
  },
  {
   "cell_type": "code",
   "execution_count": 134,
   "metadata": {
    "colab": {
     "base_uri": "https://localhost:8080/"
    },
    "executionInfo": {
     "elapsed": 3567,
     "status": "ok",
     "timestamp": 1707857034967,
     "user": {
      "displayName": "Sarah Sotoudeh",
      "userId": "08742705193599823123"
     },
     "user_tz": 480
    },
    "id": "nnBHIP4DfRpu",
    "outputId": "22bea350-9304-49ac-ba22-ce1da34c8bfb"
   },
   "outputs": [
    {
     "name": "stderr",
     "output_type": "stream",
     "text": [
      "/var/folders/ym/ph5q_6vn3fl5hj4x_hngrf_w0000gn/T/ipykernel_81364/2288795820.py:7: RuntimeWarning: invalid value encountered in divide\n",
      "  cum_adj_fail_house_6hl_div = cum_adj_fail_house_6hl[:, :, :, 0] / cum_adj_fail_house_6hl[:, :, :, 1]\n"
     ]
    }
   ],
   "source": [
    "with open(\"./pickles/FailHouse6HalfLife.npy\", \"rb\") as f:\n",
    "\tcum_adj_fail_house_6hl = np.load(f, allow_pickle=True)\n",
    "\tparty_fail_house_6hl_total = np.load(f, allow_pickle=True)\n",
    "\tfail_house_avg_bill_6h = pd.read_pickle(f)\n",
    "\tfail_house_max_bill_6h = pd.read_pickle(f)\n",
    "\n",
    "cum_adj_fail_house_6hl_div = cum_adj_fail_house_6hl[:, :, :, 0] / cum_adj_fail_house_6hl[:, :, :, 1]"
   ]
  },
  {
   "cell_type": "code",
   "execution_count": 135,
   "metadata": {
    "colab": {
     "base_uri": "https://localhost:8080/"
    },
    "executionInfo": {
     "elapsed": 1120,
     "status": "ok",
     "timestamp": 1707857081076,
     "user": {
      "displayName": "Sarah Sotoudeh",
      "userId": "08742705193599823123"
     },
     "user_tz": 480
    },
    "id": "UEAbnTocyaU7",
    "outputId": "e8daabe0-2bbb-43af-925d-c35ad12f6d93"
   },
   "outputs": [
    {
     "name": "stdout",
     "output_type": "stream",
     "text": [
      "All: 763 In Congress: 444 Not In Congress: 319\n",
      "All: 763 In Congress: 442 Not In Congress: 321\n",
      "All: 763 In Congress: 441 Not In Congress: 322\n",
      "All: 763 In Congress: 440 Not In Congress: 323\n",
      "All: 763 In Congress: 447 Not In Congress: 316\n"
     ]
    }
   ],
   "source": [
    "out_house_cham=only_current(cum_adj_fail_house_6hl_div, \"house\")\n",
    "housefail_cham_congress111=out_house_cham[0]\n",
    "housefail_cham_congress112=out_house_cham[1]\n",
    "housefail_cham_congress113=out_house_cham[2]\n",
    "housefail_cham_congress114=out_house_cham[3]\n",
    "housefail_cham_congress115=out_house_cham[4]\n",
    "\n",
    "con = [housefail_cham_congress111,housefail_cham_congress112,housefail_cham_congress113,housefail_cham_congress114,housefail_cham_congress115]"
   ]
  },
  {
   "cell_type": "markdown",
   "metadata": {
    "id": "9jkLPu8FLzf3"
   },
   "source": [
    "## Closeness Centrality"
   ]
  },
  {
   "cell_type": "code",
   "execution_count": 136,
   "metadata": {
    "id": "Skg7zP-nMYZ4"
   },
   "outputs": [],
   "source": [
    "if Path(\"./pickles/ClosenessCentrality.npy\").exists():\n",
    "\twith open(\"./pickles/ClosenessCentrality.npy\", \"rb\") as f:\n",
    "\t\tavg_close_centrality111_115 = pickle.load(f)\t#average\n",
    "\t\tmax_close_centrality111_115 = pickle.load(f)\n",
    "else:\n",
    "\thouse_care=[\"PASS_OVER:HOUSE\", \"ENACTED:SIGNED\", \"PASS_BACK:SENATE\", \"VETOED:OVERRIDE_FAIL_ORIGINATING:HOUSE\", \"PROV_KILL:CLOTUREFAILED\", \"PROV_KILL:VETO\", \"ENACTED:TENDAYRULE\", \"CONFERENCE:PASSED:HOUSE\"]\n",
    "\n",
    "\tdataMatrix_close=build_closeness_centrality_scores(housefail_cham_congress111)\n",
    "\tclose_avg_centrality111=build_avg_centrality_df(111,\"2009-01\", dataMatrix_close, \"house\", house_care)\n",
    "\tclose_max_centrality111=build_max_centrality_df(111,\"2009-01\", dataMatrix_close, \"house\", house_care)\n",
    "\n",
    "\tdataMatrix_close=build_closeness_centrality_scores(housefail_cham_congress112)\n",
    "\tclose_avg_centrality112=build_avg_centrality_df(112,\"2011-01\", dataMatrix_close, \"house\", house_care)\n",
    "\tclose_max_centrality112=build_max_centrality_df(112,\"2011-01\", dataMatrix_close, \"house\", house_care)\n",
    "\n",
    "\tdataMatrix_close=build_closeness_centrality_scores(housefail_cham_congress113)\n",
    "\tclose_avg_centrality113=build_avg_centrality_df(113,\"2013-01\", dataMatrix_close, \"house\", house_care)\n",
    "\tclose_max_centrality113=build_max_centrality_df(113,\"2013-01\", dataMatrix_close, \"house\", house_care)\n",
    "\n",
    "\tdataMatrix_close=build_closeness_centrality_scores(housefail_cham_congress114)\n",
    "\tclose_avg_centrality114=build_avg_centrality_df(114,\"2015-01\", dataMatrix_close, \"house\", house_care)\n",
    "\tclose_max_centrality114=build_max_centrality_df(114,\"2015-01\", dataMatrix_close, \"house\", house_care)\n",
    "\n",
    "\tdataMatrix_close=build_closeness_centrality_scores(housefail_cham_congress115)\n",
    "\tclose_avg_centrality115=build_avg_centrality_df(115,\"2017-01\", dataMatrix_close, \"house\", house_care)\n",
    "\tclose_max_centrality115=build_max_centrality_df(115,\"2017-01\", dataMatrix_close, \"house\", house_care)\n",
    "\n",
    "\tavg_close_centrality111_115=pd.concat([close_avg_centrality111, close_avg_centrality112, close_avg_centrality113, close_avg_centrality114, close_avg_centrality115])\n",
    "\tmax_close_centrality111_115=pd.concat([close_max_centrality111, close_max_centrality112, close_max_centrality113, close_max_centrality114, close_max_centrality115])\n",
    "\n",
    "\twith open(\"./pickles/ClosenessCentrality.npy\", \"wb\") as f:\n",
    "\t\tavg_close_centrality111_115.to_pickle(f)\n",
    "\t\tmax_close_centrality111_115.to_pickle(f)"
   ]
  },
  {
   "cell_type": "code",
   "execution_count": 137,
   "metadata": {
    "colab": {
     "base_uri": "https://localhost:8080/",
     "height": 662
    },
    "executionInfo": {
     "elapsed": 1963,
     "status": "ok",
     "timestamp": 1707863194160,
     "user": {
      "displayName": "Sarah Sotoudeh",
      "userId": "08742705193599823123"
     },
     "user_tz": 480
    },
    "id": "s-dGQIY9RQHV",
    "outputId": "5212b06c-bffb-4e7f-c470-7b9c2bf33b61"
   },
   "outputs": [
    {
     "name": "stderr",
     "output_type": "stream",
     "text": [
      "/var/folders/ym/ph5q_6vn3fl5hj4x_hngrf_w0000gn/T/ipykernel_81364/3846369664.py:45: UserWarning: FixedFormatter should only be used together with FixedLocator\n",
      "  ax1.set_xticklabels(ax1.get_xticklabels(), rotation=90, fontsize=12)\t# Set x-axis tick labels with rotation and fontsize\n"
     ]
    },
    {
     "data": {
      "image/png": "[encoded data removed]",
      "text/plain": [
       "<Figure size 1200x600 with 2 Axes>"
      ]
     },
     "metadata": {},
     "output_type": "display_data"
    },
    {
     "data": {
      "text/plain": [
       "0.003931457616692593"
      ]
     },
     "execution_count": 137,
     "metadata": {},
     "output_type": "execute_result"
    }
   ],
   "source": [
    "avg_centrality_close = plot_avg_centrality(avg_close_centrality111_115, \"Mean Closeness Centrality\", \"Mean Closeness Centrality for Bills\", ax1ylim=[0.82,1.01])\n",
    "avg_centrality_close[\"Percent_Difference\"].mean()"
   ]
  },
  {
   "cell_type": "code",
   "execution_count": 138,
   "metadata": {
    "colab": {
     "base_uri": "https://localhost:8080/",
     "height": 662
    },
    "executionInfo": {
     "elapsed": 1866,
     "status": "ok",
     "timestamp": 1707863198379,
     "user": {
      "displayName": "Sarah Sotoudeh",
      "userId": "08742705193599823123"
     },
     "user_tz": 480
    },
    "id": "D3Eu1YFtSORT",
    "outputId": "75ab267d-a090-4778-fbc4-c41fe6c42915"
   },
   "outputs": [
    {
     "name": "stderr",
     "output_type": "stream",
     "text": [
      "/var/folders/ym/ph5q_6vn3fl5hj4x_hngrf_w0000gn/T/ipykernel_81364/3007802054.py:45: UserWarning: FixedFormatter should only be used together with FixedLocator\n",
      "  ax1.set_xticklabels(ax1.get_xticklabels(), rotation=90, fontsize=12)\t# Set x-axis tick labels with rotation and fontsize\n"
     ]
    },
    {
     "data": {
      "image/png": "[encoded data removed]",
      "text/plain": [
       "<Figure size 1200x600 with 2 Axes>"
      ]
     },
     "metadata": {},
     "output_type": "display_data"
    },
    {
     "data": {
      "text/plain": [
       "0.002489076858511547"
      ]
     },
     "execution_count": 138,
     "metadata": {},
     "output_type": "execute_result"
    }
   ],
   "source": [
    "avg_centrality_max = plot_max_centrality(max_close_centrality111_115, \"Maximum Closeness Centrality\", \"Maximum Closeness Centrality for Bills\", ax1ylim=[0.82,1.01])\n",
    "avg_centrality_max[\"Percent_Difference\"].mean()"
   ]
  },
  {
   "cell_type": "markdown",
   "metadata": {
    "id": "F0UUfSXuDdGM"
   },
   "source": [
    "## Degree Centrality"
   ]
  },
  {
   "cell_type": "code",
   "execution_count": 139,
   "metadata": {
    "id": "S4XBv3RnDeEd"
   },
   "outputs": [],
   "source": [
    "if Path(\"./pickles/DegreeCentrality.npy\").exists():\n",
    "\twith open(\"./pickles/DegreeCentrality.npy\", \"rb\") as f:\n",
    "\t\tavg_dg_centrality111_115 = pickle.load(f)\n",
    "\t\tmax_dg_centrality111_115 = pickle.load(f)\n",
    "else:\n",
    "\thouse_care=[\"PASS_OVER:HOUSE\", \"ENACTED:SIGNED\", \"PASS_BACK:SENATE\", \"VETOED:OVERRIDE_FAIL_ORIGINATING:HOUSE\", \"PROV_KILL:CLOTUREFAILED\", \"PROV_KILL:VETO\", \"ENACTED:TENDAYRULE\", \"CONFERENCE:PASSED:HOUSE\"]\n",
    "\n",
    "\tdataMatrix_dg=build_dg_centrality_scores(housefail_cham_congress111)\n",
    "\tdg_avg_centrality111=build_avg_centrality_df(111,\"2009-01\", dataMatrix_dg, \"house\", house_care)\n",
    "\tdg_max_centrality111=build_max_centrality_df(111,\"2009-01\", dataMatrix_dg, \"house\", house_care)\n",
    "\n",
    "\tdataMatrix_dg=build_dg_centrality_scores(housefail_cham_congress112)\n",
    "\tdg_avg_centrality112=build_avg_centrality_df(112,\"2011-01\", dataMatrix_dg, \"house\", house_care)\n",
    "\tdg_max_centrality112=build_max_centrality_df(112,\"2011-01\", dataMatrix_dg, \"house\", house_care)\n",
    "\n",
    "\tdataMatrix_dg=build_dg_centrality_scores(housefail_cham_congress113)\n",
    "\tdg_avg_centrality113=build_avg_centrality_df(113,\"2013-01\", dataMatrix_dg, \"house\", house_care)\n",
    "\tdg_max_centrality113=build_max_centrality_df(113,\"2013-01\", dataMatrix_dg, \"house\", house_care)\n",
    "\n",
    "\tdataMatrix_dg=build_dg_centrality_scores(housefail_cham_congress114)\n",
    "\tdg_avg_centrality114=build_avg_centrality_df(114,\"2015-01\", dataMatrix_dg, \"house\", house_care)\n",
    "\tdg_max_centrality114=build_max_centrality_df(114,\"2015-01\", dataMatrix_dg, \"house\", house_care)\n",
    "\n",
    "\tdataMatrix_dg=build_dg_centrality_scores(housefail_cham_congress115)\n",
    "\tdg_avg_centrality115=build_avg_centrality_df(115,\"2017-01\", dataMatrix_dg, \"house\", house_care)\n",
    "\tdg_max_centrality115=build_max_centrality_df(115,\"2017-01\", dataMatrix_dg, \"house\", house_care)\n",
    "\n",
    "\tavg_dg_centrality111_115=pd.concat([dg_avg_centrality111, dg_avg_centrality112, dg_avg_centrality113, dg_avg_centrality114, dg_avg_centrality115])\n",
    "\tmax_dg_centrality111_115=pd.concat([dg_max_centrality111, dg_max_centrality112, dg_max_centrality113, dg_max_centrality114, dg_max_centrality115])\n",
    "\n",
    "\twith open(\"./pickles/DegreeCentrality.npy\", \"wb\") as f:\n",
    "\t\tavg_dg_centrality111_115.to_pickle(f)\n",
    "\t\tmax_dg_centrality111_115.to_pickle(f)"
   ]
  },
  {
   "cell_type": "code",
   "execution_count": 140,
   "metadata": {
    "colab": {
     "base_uri": "https://localhost:8080/",
     "height": 662
    },
    "executionInfo": {
     "elapsed": 897,
     "status": "ok",
     "timestamp": 1707863212267,
     "user": {
      "displayName": "Sarah Sotoudeh",
      "userId": "08742705193599823123"
     },
     "user_tz": 480
    },
    "id": "MxncUR2ZMSTU",
    "outputId": "4577c46e-ff3e-4c9e-cf15-810c53d4e32c"
   },
   "outputs": [
    {
     "name": "stderr",
     "output_type": "stream",
     "text": [
      "/var/folders/ym/ph5q_6vn3fl5hj4x_hngrf_w0000gn/T/ipykernel_81364/3846369664.py:45: UserWarning: FixedFormatter should only be used together with FixedLocator\n",
      "  ax1.set_xticklabels(ax1.get_xticklabels(), rotation=90, fontsize=12)\t# Set x-axis tick labels with rotation and fontsize\n"
     ]
    },
    {
     "data": {
      "image/png": "[encoded data removed]",
      "text/plain": [
       "<Figure size 1200x600 with 2 Axes>"
      ]
     },
     "metadata": {},
     "output_type": "display_data"
    },
    {
     "data": {
      "text/plain": [
       "0.004056710142877931"
      ]
     },
     "execution_count": 140,
     "metadata": {},
     "output_type": "execute_result"
    }
   ],
   "source": [
    "avg_centrality_per = plot_avg_centrality(avg_dg_centrality111_115,\"Mean Strength Centrality\", \"Mean Strength Centrality for Bills\", ax1ylim=[0.82,1.01])\n",
    "avg_centrality_per[\"Percent_Difference\"].mean()"
   ]
  },
  {
   "cell_type": "code",
   "execution_count": 141,
   "metadata": {
    "colab": {
     "base_uri": "https://localhost:8080/",
     "height": 662
    },
    "executionInfo": {
     "elapsed": 865,
     "status": "ok",
     "timestamp": 1707863216048,
     "user": {
      "displayName": "Sarah Sotoudeh",
      "userId": "08742705193599823123"
     },
     "user_tz": 480
    },
    "id": "yB0yImB5lHpg",
    "outputId": "60ec8f13-385d-4905-fdcb-2d4aa91e3897"
   },
   "outputs": [
    {
     "name": "stderr",
     "output_type": "stream",
     "text": [
      "/var/folders/ym/ph5q_6vn3fl5hj4x_hngrf_w0000gn/T/ipykernel_81364/3007802054.py:45: UserWarning: FixedFormatter should only be used together with FixedLocator\n",
      "  ax1.set_xticklabels(ax1.get_xticklabels(), rotation=90, fontsize=12)\t# Set x-axis tick labels with rotation and fontsize\n"
     ]
    },
    {
     "data": {
      "image/png": "[encoded data removed]",
      "text/plain": [
       "<Figure size 1200x600 with 2 Axes>"
      ]
     },
     "metadata": {},
     "output_type": "display_data"
    },
    {
     "data": {
      "text/plain": [
       "0.0026807883702748996"
      ]
     },
     "execution_count": 141,
     "metadata": {},
     "output_type": "execute_result"
    }
   ],
   "source": [
    "max_centrality_per = plot_max_centrality(max_dg_centrality111_115,\"Maximum Strength Centrality\", \"Maximum Strength Centrality for Bills\", ax1ylim=[0.82,1.01])\n",
    "max_centrality_per[\"Percent_Difference\"].mean()"
   ]
  },
  {
   "cell_type": "markdown",
   "metadata": {
    "id": "TDYGc0IwUorW"
   },
   "source": [
    "## Eigenvector Centrality"
   ]
  },
  {
   "cell_type": "code",
   "execution_count": 142,
   "metadata": {
    "id": "2a57FvBVZ1k_"
   },
   "outputs": [],
   "source": [
    "if Path(\"./pickles/EigenvectorCentrality.npy\").exists():\n",
    "\twith open('./pickles/EigenvectorCentrality.npy', 'rb') as fd:\n",
    "\t\tavg_ev_centrality111_115 = pickle.load(fd)\n",
    "\t\tmax_ev_centrality111_115 = pickle.load(fd)\n",
    "else:\n",
    "\thouse_care=[\"PASS_OVER:HOUSE\", \"ENACTED:SIGNED\", \"PASS_BACK:SENATE\", \"VETOED:OVERRIDE_FAIL_ORIGINATING:HOUSE\", \"PROV_KILL:CLOTUREFAILED\", \"PROV_KILL:VETO\", \"ENACTED:TENDAYRULE\", \"CONFERENCE:PASSED:HOUSE\"]\n",
    "\n",
    "\tdataMatrix_ev=build_ev_centrality_scores(housefail_cham_congress111)\n",
    "\tev_avg_centrality111=build_avg_centrality_df(111,\"2009-01\", dataMatrix_ev, \"house\", house_care)\n",
    "\tev_max_centrality111=build_max_centrality_df(111,\"2009-01\", dataMatrix_ev, \"house\", house_care)\n",
    "\n",
    "\tdataMatrix_ev=build_ev_centrality_scores(housefail_cham_congress112)\n",
    "\tev_avg_centrality112=build_avg_centrality_df(112,\"2011-01\", dataMatrix_ev, \"house\", house_care)\n",
    "\tev_max_centrality112=build_max_centrality_df(112,\"2011-01\", dataMatrix_ev, \"house\", house_care)\n",
    "\n",
    "\tdataMatrix_ev=build_ev_centrality_scores(housefail_cham_congress113)\n",
    "\tev_avg_centrality113=build_avg_centrality_df(113,\"2013-01\", dataMatrix_ev, \"house\", house_care)\n",
    "\tev_max_centrality113=build_max_centrality_df(113,\"2013-01\", dataMatrix_ev, \"house\", house_care)\n",
    "\n",
    "\tdataMatrix_ev=build_ev_centrality_scores(housefail_cham_congress114)\n",
    "\tev_avg_centrality114=build_avg_centrality_df(114,\"2015-01\", dataMatrix_ev, \"house\", house_care)\n",
    "\tev_max_centrality114=build_max_centrality_df(114,\"2015-01\", dataMatrix_ev, \"house\", house_care)\n",
    "\n",
    "\tdataMatrix_ev=build_ev_centrality_scores(housefail_cham_congress115)\n",
    "\tev_avg_centrality115=build_avg_centrality_df(115,\"2017-01\", dataMatrix_ev, \"house\", house_care)\n",
    "\tev_max_centrality115=build_max_centrality_df(115,\"2017-01\", dataMatrix_ev, \"house\", house_care)\n",
    "\n",
    "\tavg_ev_centrality111_115=pd.concat([ev_avg_centrality111, ev_avg_centrality112, ev_avg_centrality113, ev_avg_centrality114, ev_avg_centrality115])\n",
    "\tmax_ev_centrality111_115=pd.concat([ev_max_centrality111, ev_max_centrality112, ev_max_centrality113, ev_max_centrality114, ev_max_centrality115])\n",
    "\n",
    "\twith open(\"./pickles/EigenvectorCentrality.npy\", \"wb\") as f:\n",
    "\t\tavg_ev_centrality111_115.to_pickle(f)\n",
    "\t\tmax_ev_centrality111_115.to_pickle(f)"
   ]
  },
  {
   "cell_type": "code",
   "execution_count": 143,
   "metadata": {
    "colab": {
     "base_uri": "https://localhost:8080/",
     "height": 662
    },
    "executionInfo": {
     "elapsed": 1683,
     "status": "ok",
     "timestamp": 1707863306624,
     "user": {
      "displayName": "Sarah Sotoudeh",
      "userId": "08742705193599823123"
     },
     "user_tz": 480
    },
    "id": "nKhiU14NZl9l",
    "outputId": "c6a6c3c4-46a8-46cc-c991-c454e99da3f8"
   },
   "outputs": [
    {
     "name": "stderr",
     "output_type": "stream",
     "text": [
      "/var/folders/ym/ph5q_6vn3fl5hj4x_hngrf_w0000gn/T/ipykernel_81364/3846369664.py:45: UserWarning: FixedFormatter should only be used together with FixedLocator\n",
      "  ax1.set_xticklabels(ax1.get_xticklabels(), rotation=90, fontsize=12)\t# Set x-axis tick labels with rotation and fontsize\n"
     ]
    },
    {
     "data": {
      "image/png": "[encoded data removed]",
      "text/plain": [
       "<Figure size 1200x600 with 2 Axes>"
      ]
     },
     "metadata": {},
     "output_type": "display_data"
    },
    {
     "data": {
      "text/plain": [
       "0.0040875316350581425"
      ]
     },
     "execution_count": 143,
     "metadata": {},
     "output_type": "execute_result"
    }
   ],
   "source": [
    "avg_centrality_per = plot_avg_centrality(avg_ev_centrality111_115,\"Mean Eigenvector Centrality\", \"Mean Eigenvector Centrality for Bills\", ax1ylim=[0.042,0.053])\n",
    "avg_centrality_per[\"Percent_Difference\"].mean()"
   ]
  },
  {
   "cell_type": "code",
   "execution_count": 144,
   "metadata": {
    "colab": {
     "base_uri": "https://localhost:8080/",
     "height": 662
    },
    "executionInfo": {
     "elapsed": 1390,
     "status": "ok",
     "timestamp": 1707863314054,
     "user": {
      "displayName": "Sarah Sotoudeh",
      "userId": "08742705193599823123"
     },
     "user_tz": 480
    },
    "id": "XtlqP7WkZqSO",
    "outputId": "3196b60c-60c0-471a-8ff3-6deb6563513e"
   },
   "outputs": [
    {
     "name": "stderr",
     "output_type": "stream",
     "text": [
      "/var/folders/ym/ph5q_6vn3fl5hj4x_hngrf_w0000gn/T/ipykernel_81364/3007802054.py:45: UserWarning: FixedFormatter should only be used together with FixedLocator\n",
      "  ax1.set_xticklabels(ax1.get_xticklabels(), rotation=90, fontsize=12)\t# Set x-axis tick labels with rotation and fontsize\n"
     ]
    },
    {
     "data": {
      "image/png": "[encoded data removed]",
      "text/plain": [
       "<Figure size 1200x600 with 2 Axes>"
      ]
     },
     "metadata": {},
     "output_type": "display_data"
    },
    {
     "data": {
      "text/plain": [
       "0.002455312193526344"
      ]
     },
     "execution_count": 144,
     "metadata": {},
     "output_type": "execute_result"
    }
   ],
   "source": [
    "max_centrality_per = plot_max_centrality(max_ev_centrality111_115,\"Maximum Eigenvector Centrality\",\"Maximum Eigenvector Centrality for Bills\", ax1ylim=[0.042,0.053])\n",
    "max_centrality_per[\"Percent_Difference\"].mean()"
   ]
  },
  {
   "cell_type": "markdown",
   "metadata": {
    "id": "sJR_ZyO0Ji-O"
   },
   "source": [
    "## 111-115 Congress, Fail Chamber House"
   ]
  },
  {
   "cell_type": "markdown",
   "metadata": {
    "id": "RjPrZjNwMf3O"
   },
   "source": [
    "6 Half-life"
   ]
  },
  {
   "cell_type": "code",
   "execution_count": 145,
   "metadata": {
    "id": "n9pqbMAnMq-A"
   },
   "outputs": [],
   "source": [
    "# house_care=[\"PASS_OVER:HOUSE\", \"ENACTED:SIGNED\", \"PASS_BACK:SENATE\", \"VETOED:OVERRIDE_FAIL_ORIGINATING:HOUSE\", \"PROV_KILL:CLOTUREFAILED\", \"PROV_KILL:VETO\", \"ENACTED:TENDAYRULE\", \"CONFERENCE:PASSED:HOUSE\"]\n",
    "# adj_fail_house=build_co_adj_matrix(carelist=house_care, chamber=\"house\")\n",
    "# cum_adj_fail_house_6hl=create_cumulative_adj_matrix(adj_fail_house, half_life=6)\n",
    "# cum_adj_fail_house_6hl=cum_adj_fail_house_6hl[:120,:,:,:]"
   ]
  },
  {
   "cell_type": "code",
   "execution_count": 146,
   "metadata": {
    "id": "kktxe4I-M3IE"
   },
   "outputs": [],
   "source": [
    "# party_fail_house_6hl=create_party_inf_matrix(cum_adj_fail_house_6hl, \"house\")\n",
    "# party_fail_house_6hl_total = np.sum(party_fail_house_6hl, axis=-1)\n",
    "\n",
    "# fail_house_avg_bill_6h=influence_by_bill(\"2009-01\", party_fail_house_6hl_total, \"house\", house_care, normalize_cosponsor=True)\n",
    "# fail_house_max_bill_6h=max_influence_by_bill(\"2009-01\", party_fail_house_6hl_total, \"house\", house_care)"
   ]
  },
  {
   "cell_type": "code",
   "execution_count": 147,
   "metadata": {
    "id": "CsmNTFeUNCov"
   },
   "outputs": [],
   "source": [
    "# with open(\"./pickles/FailHouse6HalfLife.npy\", \"wb\") as f:\n",
    "#\t np.save(f, cum_adj_fail_house_6hl, allow_pickle=True)\n",
    "#\t np.save(f, party_fail_house_6hl_total, allow_pickle=True)\n",
    "#\t fail_house_avg_bill_6h.to_pickle(f)\t#average\n",
    "#\t fail_house_max_bill_6h.to_pickle(f)"
   ]
  },
  {
   "cell_type": "markdown",
   "metadata": {
    "id": "X_a-D3VvqUld"
   },
   "source": [
    "12 Half-life"
   ]
  },
  {
   "cell_type": "code",
   "execution_count": 148,
   "metadata": {
    "id": "7An3xlH3qV46"
   },
   "outputs": [],
   "source": [
    "# house_care=[\"PASS_OVER:HOUSE\", \"ENACTED:SIGNED\", \"PASS_BACK:SENATE\", \"VETOED:OVERRIDE_FAIL_ORIGINATING:HOUSE\", \"PROV_KILL:CLOTUREFAILED\", \"PROV_KILL:VETO\", \"ENACTED:TENDAYRULE\", \"CONFERENCE:PASSED:HOUSE\"]\n",
    "# adj_fail_house=build_co_adj_matrix(carelist=house_care, chamber=\"house\")\n",
    "# cum_adj_fail_house_12hl=create_cumulative_adj_matrix(adj_fail_house, half_life=12)\n",
    "# cum_adj_fail_house_12hl=cum_adj_fail_house_12hl[:120,:,:,:]"
   ]
  },
  {
   "cell_type": "code",
   "execution_count": 149,
   "metadata": {
    "id": "z_KHeWnhqZyu"
   },
   "outputs": [],
   "source": [
    "# party_fail_house_12hl=create_party_inf_matrix(cum_adj_fail_house_12hl, \"house\")\n",
    "# party_fail_house_12hl_total = np.sum(party_fail_house_12hl, axis=-1)\n",
    "\n",
    "# fail_house_avg_bill_12h=influence_by_bill(\"2009-01\", party_fail_house_12hl_total, \"house\", house_care, normalize_cosponsor=True)\n",
    "# fail_house_max_bill_12h=max_influence_by_bill(\"2009-01\", party_fail_house_12hl_total, \"house\", house_care)"
   ]
  },
  {
   "cell_type": "code",
   "execution_count": 150,
   "metadata": {
    "id": "oQBZGVcFqbQO"
   },
   "outputs": [],
   "source": [
    "# with open(\"./pickles/FailHouse12HalfLife.npy\", \"wb\") as f:\n",
    "#\t np.save(f, cum_adj_fail_house_12hl, allow_pickle=True)\n",
    "#\t np.save(f, party_fail_house_12hl_total, allow_pickle=True)\n",
    "#\t fail_house_avg_bill_12h.to_pickle(f)\t#average\n",
    "#\t fail_house_max_bill_12h.to_pickle(f)"
   ]
  },
  {
   "cell_type": "markdown",
   "metadata": {
    "id": "XpWSfDFbMaUU"
   },
   "source": [
    "24 Half-life"
   ]
  },
  {
   "cell_type": "code",
   "execution_count": 151,
   "metadata": {
    "id": "Hy6mKuXeJnLl"
   },
   "outputs": [],
   "source": [
    "# house_care=[\"PASS_OVER:HOUSE\", \"ENACTED:SIGNED\", \"PASS_BACK:SENATE\", \"VETOED:OVERRIDE_FAIL_ORIGINATING:HOUSE\", \"PROV_KILL:CLOTUREFAILED\", \"PROV_KILL:VETO\", \"ENACTED:TENDAYRULE\", \"CONFERENCE:PASSED:HOUSE\"]\n",
    "# adj_fail_house=build_co_adj_matrix(carelist=house_care, chamber=\"house\")\n",
    "# cum_adj_fail_house_24hl=create_cumulative_adj_matrix(adj_fail_house, half_life=24)"
   ]
  },
  {
   "cell_type": "code",
   "execution_count": 152,
   "metadata": {
    "id": "CmJBXfGtTEMb"
   },
   "outputs": [],
   "source": [
    "# cum_adj_fail_house_24hl=cum_adj_fail_house_24hl[:120,:,:,:]"
   ]
  },
  {
   "cell_type": "code",
   "execution_count": 153,
   "metadata": {
    "id": "Jhm-UGCHJpzy"
   },
   "outputs": [],
   "source": [
    "# party_fail_house_24hl=create_party_inf_matrix(cum_adj_fail_house_24hl, \"house\")\n",
    "# party_fail_house_24hl_total = np.sum(party_fail_house_24hl, axis=-1)\n",
    "\n",
    "# fail_house_avg_bill_24h=influence_by_bill(\"2009-01\", party_fail_house_24hl_total, \"house\", house_care, normalize_cosponsor=True)\n",
    "# fail_house_max_bill_24h=max_influence_by_bill(\"2009-01\", party_fail_house_24hl_total, \"house\", house_care)"
   ]
  },
  {
   "cell_type": "code",
   "execution_count": 154,
   "metadata": {
    "id": "-2kZg_7fiCoP"
   },
   "outputs": [],
   "source": [
    "# with open(\"./pickles/FailHouse24HalfLife.npy\", \"wb\") as f:\n",
    "#\t np.save(f, cum_adj_fail_house_24hl, allow_pickle=True)\n",
    "#\t np.save(f, party_fail_house_24hl_total, allow_pickle=True)\n",
    "#\t fail_house_avg_bill_24h.to_pickle(f)\t#average\n",
    "#\t fail_house_max_bill_24h.to_pickle(f)"
   ]
  }
 ],
 "metadata": {
  "colab": {
   "collapsed_sections": [
    "U8kgh7qZ32_n",
    "cbj-JfQmy0S9",
    "wpTjKI53Jmq8",
    "rQYHe0NsFHLK",
    "sJR_ZyO0Ji-O"
   ],
   "provenance": [
    {
     "file_id": "1_8Aty4dAk8_S2HvZ7WgcdsM8_kUZezOB",
     "timestamp": 1707804217073
    },
    {
     "file_id": "1SMG6GM-qSh2Npj7ZnbwlXdvOP-lR5T72",
     "timestamp": 1684176798690
    },
    {
     "file_id": "16fJxDxNzOjoPKe759mkK-w-5Fq5og5Tp",
     "timestamp": 1682402833848
    },
    {
     "file_id": "11B9qDNW5O1SB03fpxqz_WKP6lngBLP9B",
     "timestamp": 1681877698818
    }
   ]
  },
  "kernelspec": {
   "display_name": "Python 3 (ipykernel)",
   "language": "python",
   "name": "python3"
  },
  "language_info": {
   "codemirror_mode": {
    "name": "ipython",
    "version": 3
   },
   "file_extension": ".py",
   "mimetype": "text/x-python",
   "name": "python",
   "nbconvert_exporter": "python",
   "pygments_lexer": "ipython3",
   "version": "3.11.4"
  }
 },
 "nbformat": 4,
 "nbformat_minor": 1
}
